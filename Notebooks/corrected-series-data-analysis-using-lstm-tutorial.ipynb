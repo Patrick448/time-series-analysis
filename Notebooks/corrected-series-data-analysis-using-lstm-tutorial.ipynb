{
 "cells": [
  {
   "metadata": {
    "_uuid": "0d427513cb460f95316070050ee4f5d3ada49e62",
    "_cell_guid": "ea89cc79-a0a2-42f7-853f-fd3031abf396"
   },
   "cell_type": "markdown",
   "source": [
    "\n",
    "## This Notebook is a sort of tutorial for the beginners in Deep Learning and time-series data analysis. \n",
    "\n",
    "##  * The aim is just to show how to build the simplest Long Short-Term Memory (LSTM) recurrent neural network for the data.  \n",
    " \n",
    "### * Jupyter notebook can be downloaded here: https://github.com/amirrezaeian/Individual-household-electric-power-consumption-Data-Set-"
   ]
  },
  {
   "metadata": {
    "_uuid": "38fa35735ca2a9f07e4b56e58ae935c09ca697fa",
    "_cell_guid": "ead3c9d9-d48c-46c1-9d6f-817edcf3fe6d"
   },
   "cell_type": "markdown",
   "source": [
    "The description of data can be found here:\n",
    "http://archive.ics.uci.edu/ml/datasets/Individual+household+electric+power+consumption\n",
    "\n",
    "Attribute Information:\n",
    "1.date: Date in format dd/mm/yyyy\n",
    "\n",
    "2.time: time in format hh:mm:ss\n",
    "\n",
    "3.global_active_power: household global minute-averaged active power (in kilowatt)\n",
    "\n",
    "4.global_reactive_power: household global minute-averaged reactive power (in kilowatt)\n",
    "\n",
    "5.voltage: minute-averaged voltage (in volt)\n",
    "\n",
    "6.global_intensity: household global minute-averaged current intensity (in ampere)\n",
    "\n",
    "7.sub_metering_1: energy sub-metering No. 1 (in watt-hour of active energy). It corresponds to the kitchen, containing mainly a dishwasher, an oven and a microwave (hot plates are not electric but gas powered).\n",
    "\n",
    "8.sub_metering_2: energy sub-metering No. 2 (in watt-hour of active energy). It corresponds to the laundry room, containing a washing-machine, a tumble-drier, a refrigerator and a light.\n",
    "\n",
    "9.sub_metering_3: energy sub-metering No. 3 (in watt-hour of active energy). It corresponds to an electric water-heater and an air-conditioner."
   ]
  },
  {
   "metadata": {
    "_uuid": "4e690c4a961b9475a93164720c7aeaab99fe7061",
    "_cell_guid": "7b27c994-a143-422a-a8cc-51e6a1a688d3",
    "trusted": true,
    "ExecuteTime": {
     "end_time": "2023-10-01T23:17:46.749072438Z",
     "start_time": "2023-10-01T23:17:43.796839949Z"
    }
   },
   "cell_type": "code",
   "source": [
    "# Let`s import all packages that we may need:\n",
    "\n",
    "import sys \n",
    "import numpy as np # linear algebra\n",
    "from scipy.stats import randint\n",
    "import pandas as pd # data processing, CSV file I/O (e.g. pd.read_csv), data manipulation as in SQL\n",
    "import matplotlib.pyplot as plt # this is used for the plot the graph \n",
    "import seaborn as sns # used for plot interactive graph. \n",
    "from sklearn.model_selection import train_test_split # to split the data into two parts\n",
    "#from sklearn.cross_validation import KFold # use for cross validation\n",
    "from sklearn.preprocessing import StandardScaler # for normalization\n",
    "from sklearn.preprocessing import MinMaxScaler\n",
    "from sklearn.pipeline import Pipeline # pipeline making\n",
    "from sklearn.model_selection import cross_val_score\n",
    "from sklearn.feature_selection import SelectFromModel\n",
    "from sklearn import metrics # for the check the error and accuracy of the model\n",
    "from sklearn.metrics import mean_squared_error,r2_score\n",
    "\n",
    "## for Deep-learing:\n",
    "import keras\n",
    "from keras.layers import Dense\n",
    "from keras.models import Sequential\n",
    "from keras.utils import to_categorical\n",
    "from keras.optimizers import SGD \n",
    "from keras.callbacks import EarlyStopping\n",
    "#from keras.utils import np_utils\n",
    "import itertools\n",
    "from keras.layers import LSTM\n",
    "from keras.layers import Conv1D\n",
    "from keras.layers import MaxPooling1D\n",
    "from keras.layers import Dropout\n"
   ],
   "execution_count": 1,
   "outputs": [
    {
     "name": "stderr",
     "output_type": "stream",
     "text": [
      "2023-10-01 20:17:44.394595: I tensorflow/tsl/cuda/cudart_stub.cc:28] Could not find cuda drivers on your machine, GPU will not be used.\n",
      "2023-10-01 20:17:44.545358: I tensorflow/tsl/cuda/cudart_stub.cc:28] Could not find cuda drivers on your machine, GPU will not be used.\n",
      "2023-10-01 20:17:44.546358: I tensorflow/core/platform/cpu_feature_guard.cc:182] This TensorFlow binary is optimized to use available CPU instructions in performance-critical operations.\n",
      "To enable the following instructions: AVX2 FMA, in other operations, rebuild TensorFlow with the appropriate compiler flags.\n",
      "2023-10-01 20:17:45.699538: W tensorflow/compiler/tf2tensorrt/utils/py_utils.cc:38] TF-TRT Warning: Could not find TensorRT\n"
     ]
    }
   ]
  },
  {
   "metadata": {
    "_uuid": "7ef91d05da654a56aaccb166dfa30d50cae2fb86",
    "collapsed": true,
    "_cell_guid": "3b7223da-4278-4fa5-add9-8e238facc74a",
    "trusted": true,
    "ExecuteTime": {
     "end_time": "2023-10-01T23:17:55.749748471Z",
     "start_time": "2023-10-01T23:17:46.752579550Z"
    }
   },
   "cell_type": "code",
   "source": [
    "## Data can be downloaded from: http://archive.ics.uci.edu/ml/machine-learning-databases/00235/\n",
    "## Just open the zip file and grab the file 'household_power_consumption.txt' put it in the directory \n",
    "## that you would like to run the code. \n",
    "\n",
    "\n",
    "df = pd.read_csv('../input/household_power_consumption.txt', sep=';', \n",
    "                 parse_dates={'dt' : ['Date', 'Time']}, infer_datetime_format=True, \n",
    "                 low_memory=False, na_values=['nan','?'], index_col='dt')"
   ],
   "execution_count": 2,
   "outputs": [
    {
     "name": "stderr",
     "output_type": "stream",
     "text": [
      "/tmp/ipykernel_20286/3837230594.py:6: FutureWarning: The argument 'infer_datetime_format' is deprecated and will be removed in a future version. A strict version of it is now the default, see https://pandas.pydata.org/pdeps/0004-consistent-to-datetime-parsing.html. You can safely remove this argument.\n",
      "  df = pd.read_csv('../input/household_power_consumption.txt', sep=';',\n",
      "/tmp/ipykernel_20286/3837230594.py:6: UserWarning: Parsing dates in %d/%m/%Y %H:%M:%S format when dayfirst=False (the default) was specified. Pass `dayfirst=True` or specify a format to silence this warning.\n",
      "  df = pd.read_csv('../input/household_power_consumption.txt', sep=';',\n"
     ]
    }
   ]
  },
  {
   "metadata": {
    "_uuid": "a5dcfefaffe77d27ce026772cdf5a7ba3eeffa83",
    "_cell_guid": "08ccaec3-7c36-453b-b1f2-29e9421114c5"
   },
   "cell_type": "markdown",
   "source": [
    " ## 1) Note that data include 'nan' and '?' as a string. I converted both to numpy nan in importing stage (above) and treated both of them the same. \n",
    "\n",
    "## 2) I merged two columns 'Date' and 'Time' to 'dt'. \n",
    "\n",
    "## 3) I also converted in the above, the data to time-series type, by taking index to be the time. "
   ]
  },
  {
   "metadata": {
    "_uuid": "bbcddeb8ff813f822725d7c73ceeee9e497a4f06",
    "_cell_guid": "e4be7beb-bed9-45ae-8f7b-5fed896f26e6",
    "trusted": true,
    "ExecuteTime": {
     "end_time": "2023-10-01T23:17:55.802439805Z",
     "start_time": "2023-10-01T23:17:55.762103737Z"
    }
   },
   "cell_type": "code",
   "source": [
    "df.head() "
   ],
   "execution_count": 3,
   "outputs": [
    {
     "data": {
      "text/plain": "                     Global_active_power  Global_reactive_power  Voltage  \\\ndt                                                                         \n2006-12-16 17:24:00                4.216                  0.418   234.84   \n2006-12-16 17:25:00                5.360                  0.436   233.63   \n2006-12-16 17:26:00                5.374                  0.498   233.29   \n2006-12-16 17:27:00                5.388                  0.502   233.74   \n2006-12-16 17:28:00                3.666                  0.528   235.68   \n\n                     Global_intensity  Sub_metering_1  Sub_metering_2  \\\ndt                                                                      \n2006-12-16 17:24:00              18.4             0.0             1.0   \n2006-12-16 17:25:00              23.0             0.0             1.0   \n2006-12-16 17:26:00              23.0             0.0             2.0   \n2006-12-16 17:27:00              23.0             0.0             1.0   \n2006-12-16 17:28:00              15.8             0.0             1.0   \n\n                     Sub_metering_3  \ndt                                   \n2006-12-16 17:24:00            17.0  \n2006-12-16 17:25:00            16.0  \n2006-12-16 17:26:00            17.0  \n2006-12-16 17:27:00            17.0  \n2006-12-16 17:28:00            17.0  ",
      "text/html": "<div>\n<style scoped>\n    .dataframe tbody tr th:only-of-type {\n        vertical-align: middle;\n    }\n\n    .dataframe tbody tr th {\n        vertical-align: top;\n    }\n\n    .dataframe thead th {\n        text-align: right;\n    }\n</style>\n<table border=\"1\" class=\"dataframe\">\n  <thead>\n    <tr style=\"text-align: right;\">\n      <th></th>\n      <th>Global_active_power</th>\n      <th>Global_reactive_power</th>\n      <th>Voltage</th>\n      <th>Global_intensity</th>\n      <th>Sub_metering_1</th>\n      <th>Sub_metering_2</th>\n      <th>Sub_metering_3</th>\n    </tr>\n    <tr>\n      <th>dt</th>\n      <th></th>\n      <th></th>\n      <th></th>\n      <th></th>\n      <th></th>\n      <th></th>\n      <th></th>\n    </tr>\n  </thead>\n  <tbody>\n    <tr>\n      <th>2006-12-16 17:24:00</th>\n      <td>4.216</td>\n      <td>0.418</td>\n      <td>234.84</td>\n      <td>18.4</td>\n      <td>0.0</td>\n      <td>1.0</td>\n      <td>17.0</td>\n    </tr>\n    <tr>\n      <th>2006-12-16 17:25:00</th>\n      <td>5.360</td>\n      <td>0.436</td>\n      <td>233.63</td>\n      <td>23.0</td>\n      <td>0.0</td>\n      <td>1.0</td>\n      <td>16.0</td>\n    </tr>\n    <tr>\n      <th>2006-12-16 17:26:00</th>\n      <td>5.374</td>\n      <td>0.498</td>\n      <td>233.29</td>\n      <td>23.0</td>\n      <td>0.0</td>\n      <td>2.0</td>\n      <td>17.0</td>\n    </tr>\n    <tr>\n      <th>2006-12-16 17:27:00</th>\n      <td>5.388</td>\n      <td>0.502</td>\n      <td>233.74</td>\n      <td>23.0</td>\n      <td>0.0</td>\n      <td>1.0</td>\n      <td>17.0</td>\n    </tr>\n    <tr>\n      <th>2006-12-16 17:28:00</th>\n      <td>3.666</td>\n      <td>0.528</td>\n      <td>235.68</td>\n      <td>15.8</td>\n      <td>0.0</td>\n      <td>1.0</td>\n      <td>17.0</td>\n    </tr>\n  </tbody>\n</table>\n</div>"
     },
     "execution_count": 3,
     "metadata": {},
     "output_type": "execute_result"
    }
   ]
  },
  {
   "metadata": {
    "_uuid": "11872f6f01ded0e63e9a32e82acc280860c5a15d",
    "_cell_guid": "76a8cf19-7cfd-4b46-b508-200ead2cafc3",
    "trusted": true,
    "ExecuteTime": {
     "end_time": "2023-10-01T23:17:55.851045374Z",
     "start_time": "2023-10-01T23:17:55.781009242Z"
    }
   },
   "cell_type": "code",
   "source": [
    "df.info()"
   ],
   "execution_count": 4,
   "outputs": [
    {
     "name": "stdout",
     "output_type": "stream",
     "text": [
      "<class 'pandas.core.frame.DataFrame'>\n",
      "DatetimeIndex: 2075259 entries, 2006-12-16 17:24:00 to 2010-11-26 21:02:00\n",
      "Data columns (total 7 columns):\n",
      " #   Column                 Dtype  \n",
      "---  ------                 -----  \n",
      " 0   Global_active_power    float64\n",
      " 1   Global_reactive_power  float64\n",
      " 2   Voltage                float64\n",
      " 3   Global_intensity       float64\n",
      " 4   Sub_metering_1         float64\n",
      " 5   Sub_metering_2         float64\n",
      " 6   Sub_metering_3         float64\n",
      "dtypes: float64(7)\n",
      "memory usage: 126.7 MB\n"
     ]
    }
   ]
  },
  {
   "metadata": {
    "_uuid": "cfbb517b90839c772001575bb5636053db10159f",
    "_cell_guid": "a26765e3-2ac8-441a-a3d8-ff32ef5c80a0",
    "trusted": true,
    "ExecuteTime": {
     "end_time": "2023-10-01T23:17:55.854272019Z",
     "start_time": "2023-10-01T23:17:55.828659209Z"
    }
   },
   "cell_type": "code",
   "source": [
    "df.dtypes"
   ],
   "execution_count": 5,
   "outputs": [
    {
     "data": {
      "text/plain": "Global_active_power      float64\nGlobal_reactive_power    float64\nVoltage                  float64\nGlobal_intensity         float64\nSub_metering_1           float64\nSub_metering_2           float64\nSub_metering_3           float64\ndtype: object"
     },
     "execution_count": 5,
     "metadata": {},
     "output_type": "execute_result"
    }
   ]
  },
  {
   "metadata": {
    "_uuid": "a0e9aa33b5f6231b67cfce24445fbd795190fd42",
    "_cell_guid": "5eddbf54-4dd0-49d1-af1f-4d6a97275247",
    "trusted": true,
    "ExecuteTime": {
     "end_time": "2023-10-01T23:17:55.949705531Z",
     "start_time": "2023-10-01T23:17:55.838288723Z"
    }
   },
   "cell_type": "code",
   "source": [
    "df.shape"
   ],
   "execution_count": 6,
   "outputs": [
    {
     "data": {
      "text/plain": "(2075259, 7)"
     },
     "execution_count": 6,
     "metadata": {},
     "output_type": "execute_result"
    }
   ]
  },
  {
   "metadata": {
    "_uuid": "e4c89c0f6b3e00baa511d2b611079d6a00648c83",
    "_cell_guid": "234d0be9-5117-40f6-93d8-8c4f425f1926",
    "trusted": true,
    "ExecuteTime": {
     "end_time": "2023-10-01T23:17:57.795913141Z",
     "start_time": "2023-10-01T23:17:55.846049579Z"
    }
   },
   "cell_type": "code",
   "source": [
    "df.describe()"
   ],
   "execution_count": 7,
   "outputs": [
    {
     "data": {
      "text/plain": "       Global_active_power  Global_reactive_power       Voltage  \\\ncount         2.049280e+06           2.049280e+06  2.049280e+06   \nmean          1.091615e+00           1.237145e-01  2.408399e+02   \nstd           1.057294e+00           1.127220e-01  3.239987e+00   \nmin           7.600000e-02           0.000000e+00  2.232000e+02   \n25%           3.080000e-01           4.800000e-02  2.389900e+02   \n50%           6.020000e-01           1.000000e-01  2.410100e+02   \n75%           1.528000e+00           1.940000e-01  2.428900e+02   \nmax           1.112200e+01           1.390000e+00  2.541500e+02   \n\n       Global_intensity  Sub_metering_1  Sub_metering_2  Sub_metering_3  \ncount      2.049280e+06    2.049280e+06    2.049280e+06    2.049280e+06  \nmean       4.627759e+00    1.121923e+00    1.298520e+00    6.458447e+00  \nstd        4.444396e+00    6.153031e+00    5.822026e+00    8.437154e+00  \nmin        2.000000e-01    0.000000e+00    0.000000e+00    0.000000e+00  \n25%        1.400000e+00    0.000000e+00    0.000000e+00    0.000000e+00  \n50%        2.600000e+00    0.000000e+00    0.000000e+00    1.000000e+00  \n75%        6.400000e+00    0.000000e+00    1.000000e+00    1.700000e+01  \nmax        4.840000e+01    8.800000e+01    8.000000e+01    3.100000e+01  ",
      "text/html": "<div>\n<style scoped>\n    .dataframe tbody tr th:only-of-type {\n        vertical-align: middle;\n    }\n\n    .dataframe tbody tr th {\n        vertical-align: top;\n    }\n\n    .dataframe thead th {\n        text-align: right;\n    }\n</style>\n<table border=\"1\" class=\"dataframe\">\n  <thead>\n    <tr style=\"text-align: right;\">\n      <th></th>\n      <th>Global_active_power</th>\n      <th>Global_reactive_power</th>\n      <th>Voltage</th>\n      <th>Global_intensity</th>\n      <th>Sub_metering_1</th>\n      <th>Sub_metering_2</th>\n      <th>Sub_metering_3</th>\n    </tr>\n  </thead>\n  <tbody>\n    <tr>\n      <th>count</th>\n      <td>2.049280e+06</td>\n      <td>2.049280e+06</td>\n      <td>2.049280e+06</td>\n      <td>2.049280e+06</td>\n      <td>2.049280e+06</td>\n      <td>2.049280e+06</td>\n      <td>2.049280e+06</td>\n    </tr>\n    <tr>\n      <th>mean</th>\n      <td>1.091615e+00</td>\n      <td>1.237145e-01</td>\n      <td>2.408399e+02</td>\n      <td>4.627759e+00</td>\n      <td>1.121923e+00</td>\n      <td>1.298520e+00</td>\n      <td>6.458447e+00</td>\n    </tr>\n    <tr>\n      <th>std</th>\n      <td>1.057294e+00</td>\n      <td>1.127220e-01</td>\n      <td>3.239987e+00</td>\n      <td>4.444396e+00</td>\n      <td>6.153031e+00</td>\n      <td>5.822026e+00</td>\n      <td>8.437154e+00</td>\n    </tr>\n    <tr>\n      <th>min</th>\n      <td>7.600000e-02</td>\n      <td>0.000000e+00</td>\n      <td>2.232000e+02</td>\n      <td>2.000000e-01</td>\n      <td>0.000000e+00</td>\n      <td>0.000000e+00</td>\n      <td>0.000000e+00</td>\n    </tr>\n    <tr>\n      <th>25%</th>\n      <td>3.080000e-01</td>\n      <td>4.800000e-02</td>\n      <td>2.389900e+02</td>\n      <td>1.400000e+00</td>\n      <td>0.000000e+00</td>\n      <td>0.000000e+00</td>\n      <td>0.000000e+00</td>\n    </tr>\n    <tr>\n      <th>50%</th>\n      <td>6.020000e-01</td>\n      <td>1.000000e-01</td>\n      <td>2.410100e+02</td>\n      <td>2.600000e+00</td>\n      <td>0.000000e+00</td>\n      <td>0.000000e+00</td>\n      <td>1.000000e+00</td>\n    </tr>\n    <tr>\n      <th>75%</th>\n      <td>1.528000e+00</td>\n      <td>1.940000e-01</td>\n      <td>2.428900e+02</td>\n      <td>6.400000e+00</td>\n      <td>0.000000e+00</td>\n      <td>1.000000e+00</td>\n      <td>1.700000e+01</td>\n    </tr>\n    <tr>\n      <th>max</th>\n      <td>1.112200e+01</td>\n      <td>1.390000e+00</td>\n      <td>2.541500e+02</td>\n      <td>4.840000e+01</td>\n      <td>8.800000e+01</td>\n      <td>8.000000e+01</td>\n      <td>3.100000e+01</td>\n    </tr>\n  </tbody>\n</table>\n</div>"
     },
     "execution_count": 7,
     "metadata": {},
     "output_type": "execute_result"
    }
   ]
  },
  {
   "metadata": {
    "_uuid": "1d8ddd56738f436c1713c451328693edafe1c3b4",
    "_cell_guid": "25d6f9c5-fd15-4ba7-b938-a3e927c50f1c",
    "trusted": true,
    "ExecuteTime": {
     "end_time": "2023-10-01T23:17:57.797348618Z",
     "start_time": "2023-10-01T23:17:56.646141611Z"
    }
   },
   "cell_type": "code",
   "source": [
    "df.columns"
   ],
   "execution_count": 8,
   "outputs": [
    {
     "data": {
      "text/plain": "Index(['Global_active_power', 'Global_reactive_power', 'Voltage',\n       'Global_intensity', 'Sub_metering_1', 'Sub_metering_2',\n       'Sub_metering_3'],\n      dtype='object')"
     },
     "execution_count": 8,
     "metadata": {},
     "output_type": "execute_result"
    }
   ]
  },
  {
   "metadata": {
    "_uuid": "2e248c3bc354cb0d672d173577e81d815d1b9a3c",
    "_cell_guid": "938ffef5-1d60-45ab-9e20-1377c25ef3ec"
   },
   "cell_type": "markdown",
   "source": [
    "## Dealing with missing values  'nan' with a test statistic"
   ]
  },
  {
   "metadata": {
    "_uuid": "efb409f0ea173f8d4589cc8c8f6aed97e771e873",
    "_cell_guid": "81cdc1e5-ca60-4239-ace7-2f814ac871f5",
    "trusted": true,
    "ExecuteTime": {
     "end_time": "2023-10-01T23:17:57.798755748Z",
     "start_time": "2023-10-01T23:17:56.662381578Z"
    }
   },
   "cell_type": "code",
   "source": [
    "## finding all columns that have nan:\n",
    "\n",
    "droping_list_all=[]\n",
    "for j in range(0,7):\n",
    "    if not df.iloc[:, j].notnull().all():\n",
    "        droping_list_all.append(j)        \n",
    "        #print(df.iloc[:,j].unique())\n",
    "droping_list_all"
   ],
   "execution_count": 9,
   "outputs": [
    {
     "data": {
      "text/plain": "[0, 1, 2, 3, 4, 5, 6]"
     },
     "execution_count": 9,
     "metadata": {},
     "output_type": "execute_result"
    }
   ]
  },
  {
   "metadata": {
    "_uuid": "cd3966b66a5b8682efffa059632536ae7e5820e4",
    "collapsed": true,
    "_cell_guid": "77b8bc3e-c837-4976-ab9f-bc441d251d8b",
    "trusted": true,
    "ExecuteTime": {
     "end_time": "2023-10-01T23:17:57.800150460Z",
     "start_time": "2023-10-01T23:17:56.704719844Z"
    }
   },
   "cell_type": "code",
   "source": [
    "# filling nan with mean in any columns\n",
    "\n",
    "for j in range(0,7):        \n",
    "        df.iloc[:,j]=df.iloc[:,j].fillna(df.iloc[:,j].mean())"
   ],
   "execution_count": 10,
   "outputs": []
  },
  {
   "metadata": {
    "_uuid": "39f6858342a7496f73fb1d5bc1d184ddbb75b773",
    "_cell_guid": "03367835-8a7b-48d7-becb-4f1e10f18b28",
    "trusted": true,
    "ExecuteTime": {
     "end_time": "2023-10-01T23:17:57.817062442Z",
     "start_time": "2023-10-01T23:17:56.855903161Z"
    }
   },
   "cell_type": "code",
   "source": [
    "# another sanity check to make sure that there are not more any nan\n",
    "df.isnull().sum()"
   ],
   "execution_count": 11,
   "outputs": [
    {
     "data": {
      "text/plain": "Global_active_power      0\nGlobal_reactive_power    0\nVoltage                  0\nGlobal_intensity         0\nSub_metering_1           0\nSub_metering_2           0\nSub_metering_3           0\ndtype: int64"
     },
     "execution_count": 11,
     "metadata": {},
     "output_type": "execute_result"
    }
   ]
  },
  {
   "metadata": {
    "_uuid": "64b0092f2b4702dcbebb56f868f87252ea6b87eb",
    "_cell_guid": "2cc83d0f-626b-4048-8ffd-51010e800810"
   },
   "cell_type": "markdown",
   "source": [
    "# Data visualization"
   ]
  },
  {
   "metadata": {
    "_uuid": "bd87eb8a3ada3f854b7bcef0617f5050b417a1a9",
    "_cell_guid": "50cd1457-7a91-4000-a4d6-6614324b6fa7"
   },
   "cell_type": "markdown",
   "source": [
    "## * Below I resample over day, and show the sum and mean of Global_active_power. It is seen that mean and sum of resampled data set, have similar structure."
   ]
  },
  {
   "metadata": {
    "_uuid": "ab6c5bdbe295c16d37f45be52b72446a1cb35806",
    "_cell_guid": "dd48cb9c-3970-4614-95d5-0eb668b00994",
    "trusted": true,
    "is_executing": true,
    "ExecuteTime": {
     "start_time": "2023-10-01T23:17:56.940352449Z"
    }
   },
   "cell_type": "code",
   "source": [
    "df.Global_active_power.resample('D').sum().plot(title='Global_active_power resampled over day for sum') \n",
    "#df.Global_active_power.resample('D').mean().plot(title='Global_active_power resampled over day', color='red') \n",
    "plt.tight_layout()\n",
    "plt.show()   \n",
    "\n",
    "df.Global_active_power.resample('D').mean().plot(title='Global_active_power resampled over day for mean', color='red') \n",
    "plt.tight_layout()\n",
    "plt.show()"
   ],
   "execution_count": null,
   "outputs": []
  },
  {
   "metadata": {
    "_uuid": "cc12aa0f8fcf294c1323bb1851ff11d8a60f42e1",
    "_cell_guid": "f52ae0f7-61e6-41e8-89b5-ccf04ad9961c",
    "trusted": true,
    "is_executing": true
   },
   "cell_type": "code",
   "source": [
    "### Below I show mean and std of 'Global_intensity' resampled over day \n",
    "r = df.Global_intensity.resample('D').agg(['mean', 'std'])\n",
    "r.plot(subplots = True, title='Global_intensity resampled over day')\n",
    "plt.show()"
   ],
   "execution_count": null,
   "outputs": []
  },
  {
   "metadata": {
    "_uuid": "d4ecbce5841536070bcfc84662359425511f2029",
    "_cell_guid": "25d02bfc-d098-4595-8347-5ad71c872804",
    "trusted": true,
    "is_executing": true
   },
   "cell_type": "code",
   "source": [
    "### Below I show mean and std of 'Global_reactive_power' resampled over day\n",
    "r2 = df.Global_reactive_power.resample('D').agg(['mean', 'std'])\n",
    "r2.plot(subplots = True, title='Global_reactive_power resampled over day', color='red')\n",
    "plt.show()"
   ],
   "execution_count": null,
   "outputs": []
  },
  {
   "metadata": {
    "_uuid": "e454ba869090bbc7e27969e18a3d1d5ed17f2005",
    "_cell_guid": "3d8bff5c-041e-42c2-a991-8d2f5b283c40",
    "trusted": true,
    "is_executing": true
   },
   "cell_type": "code",
   "source": [
    "### Sum of 'Global_active_power' resampled over month\n",
    "# Sum of 'Global_active_power' resampled over month\n",
    "df['Global_active_power'].resample('M').mean().plot(kind='bar')\n",
    "plt.xticks(rotation=60)\n",
    "plt.ylabel('Global_active_power')\n",
    "plt.title('Global_active_power per month (averaged over month)')\n",
    "plt.show()"
   ],
   "execution_count": null,
   "outputs": []
  },
  {
   "metadata": {
    "_uuid": "6bde1385e10e11f374a6e7a0e75fca1bb631c97b",
    "_cell_guid": "695df25d-2086-4495-b5f5-73838908df39",
    "trusted": true,
    "is_executing": true
   },
   "cell_type": "code",
   "source": [
    "## Mean of 'Global_active_power' resampled over quarter\n",
    "df['Global_active_power'].resample('Q').mean().plot(kind='bar')\n",
    "plt.xticks(rotation=60)\n",
    "plt.ylabel('Global_active_power')\n",
    "plt.title('Global_active_power per quarter (averaged over quarter)')\n",
    "plt.show()"
   ],
   "execution_count": null,
   "outputs": []
  },
  {
   "metadata": {
    "_uuid": "d8dfaf23bffc84c35998940fecd6323d2e58ae3b",
    "_cell_guid": "ba0cf5da-e899-46fb-aa14-b827f363035b"
   },
   "cell_type": "markdown",
   "source": [
    "### It is very important to note from above two plots that resampling over larger time inteval, will diminish the periodicity of system as we expect. This is important for machine learning feature engineering. "
   ]
  },
  {
   "metadata": {
    "_uuid": "ba182d11e69e4c1984d8c6f8ff41cd04a57ba98d",
    "_cell_guid": "140ce779-2a35-4518-b08e-33b39dbbe6c5",
    "trusted": true,
    "is_executing": true
   },
   "cell_type": "code",
   "source": [
    "## mean of 'Voltage' resampled over month\n",
    "df['Voltage'].resample('M').mean().plot(kind='bar', color='red')\n",
    "plt.xticks(rotation=60)\n",
    "plt.ylabel('Voltage')\n",
    "plt.title('Voltage per quarter (summed over quarter)')\n",
    "plt.show()"
   ],
   "execution_count": null,
   "outputs": []
  },
  {
   "metadata": {
    "_uuid": "4afd451f92abbbaa4814e122c42cbbeb039eae05",
    "_cell_guid": "e5cb3db1-3bde-4cec-8833-d12a9976b505",
    "trusted": true,
    "is_executing": true
   },
   "cell_type": "code",
   "source": [
    "df['Sub_metering_1'].resample('M').mean().plot(kind='bar', color='brown')\n",
    "plt.xticks(rotation=60)\n",
    "plt.ylabel('Sub_metering_1')\n",
    "plt.title('Sub_metering_1 per quarter (summed over quarter)')\n",
    "plt.show()"
   ],
   "execution_count": null,
   "outputs": []
  },
  {
   "metadata": {
    "_uuid": "8fdbb401e316cf1cdc62cb11c95b19b6ea96fc89",
    "_cell_guid": "d8abca6a-1281-4739-bd56-15c441f96307"
   },
   "cell_type": "markdown",
   "source": [
    " ## * It is seen from the above plots that the mean of 'Volage' over month is pretty much constant compared to other features. This is important again in feature selection."
   ]
  },
  {
   "metadata": {
    "_uuid": "8980b9afc86c6fc58cf001da66d4dea679a769b3",
    "_cell_guid": "c5d6c77e-6dae-4fb3-9c22-7cde479beee4",
    "trusted": true,
    "is_executing": true
   },
   "cell_type": "code",
   "source": [
    "# Below I compare the mean of different featuresresampled over day. \n",
    "# specify columns to plot\n",
    "cols = [0, 1, 2, 3, 5, 6]\n",
    "i = 1\n",
    "groups=cols\n",
    "values = df.resample('D').mean().values\n",
    "# plot each column\n",
    "plt.figure(figsize=(15, 10))\n",
    "for group in groups:\n",
    "\tplt.subplot(len(cols), 1, i)\n",
    "\tplt.plot(values[:, group])\n",
    "\tplt.title(df.columns[group], y=0.75, loc='right')\n",
    "\ti += 1\n",
    "plt.show()"
   ],
   "execution_count": null,
   "outputs": []
  },
  {
   "metadata": {
    "_uuid": "6c867744634ff913c9d092807c9fd3a31cf8adc4",
    "_cell_guid": "3a812f49-a56b-4fd6-b097-f696b9c1e161",
    "trusted": true,
    "is_executing": true
   },
   "cell_type": "code",
   "source": [
    "## resampling over week and computing mean\n",
    "df.Global_reactive_power.resample('W').mean().plot(color='y', legend=True)\n",
    "df.Global_active_power.resample('W').mean().plot(color='r', legend=True)\n",
    "df.Sub_metering_1.resample('W').mean().plot(color='b', legend=True)\n",
    "df.Global_intensity.resample('W').mean().plot(color='g', legend=True)\n",
    "plt.show()"
   ],
   "execution_count": null,
   "outputs": []
  },
  {
   "metadata": {
    "_uuid": "ad845bb25b3a0689fa2e7c35f9d94d2540888253",
    "_cell_guid": "eb14350e-9d75-4e4b-ab6e-ad54b184715c",
    "trusted": true,
    "is_executing": true
   },
   "cell_type": "code",
   "source": [
    "# Below I show hist plot of the mean of different feature resampled over month \n",
    "df.Global_active_power.resample('M').mean().plot(kind='hist', color='r', legend=True )\n",
    "df.Global_reactive_power.resample('M').mean().plot(kind='hist',color='b', legend=True)\n",
    "#df.Voltage.resample('M').sum().plot(kind='hist',color='g', legend=True)\n",
    "df.Global_intensity.resample('M').mean().plot(kind='hist', color='g', legend=True)\n",
    "df.Sub_metering_1.resample('M').mean().plot(kind='hist', color='y', legend=True)\n",
    "plt.show()"
   ],
   "execution_count": null,
   "outputs": []
  },
  {
   "metadata": {
    "_uuid": "47d9d0f37799e70fbb22a907a23b9e1c6240f518",
    "_cell_guid": "2678acd8-2a3a-4e2b-ae8c-b5195aef9b90",
    "trusted": true,
    "is_executing": true
   },
   "cell_type": "code",
   "source": [
    "## The correlations between 'Global_intensity', 'Global_active_power'\n",
    "data_returns = df.pct_change()\n",
    "sns.jointplot(x='Global_intensity', y='Global_active_power', data=data_returns)  \n",
    "\n",
    "plt.show()"
   ],
   "execution_count": null,
   "outputs": []
  },
  {
   "metadata": {
    "_uuid": "713a4b41e2ea26902b45fe5f77b09686d71bac01",
    "_cell_guid": "70ca2f48-758a-4b62-9b63-d9cf5b5df0ba"
   },
   "cell_type": "markdown",
   "source": [
    "### * From above two plots it is seen that 'Global_intensity' and 'Global_active_power' correlated. But 'Voltage', 'Global_active_power' are less correlated. This is important observation for machine learning purpose. "
   ]
  },
  {
   "metadata": {
    "_uuid": "e5be6a103c192025217ced2ee1b56c5ee7b13fb6",
    "_cell_guid": "3a7cf61d-b18a-4905-bc61-5ca824057dfb",
    "trusted": true,
    "is_executing": true
   },
   "cell_type": "code",
   "source": [
    "## The correlations between 'Voltage' and  'Global_active_power'\n",
    "sns.jointplot(x='Voltage', y='Global_active_power', data=data_returns)  \n",
    "plt.show()"
   ],
   "execution_count": null,
   "outputs": []
  },
  {
   "metadata": {
    "_uuid": "3a7444ba40d3d84cda517a6e572a13716b52067f",
    "_cell_guid": "c028eac6-bdfc-432e-ad50-e0844fd0bfeb"
   },
   "cell_type": "markdown",
   "source": [
    "# Correlations among features"
   ]
  },
  {
   "metadata": {
    "_uuid": "6a04293e530a9bf55ce72cc986bad9b3cfadb158",
    "_cell_guid": "734168b8-74fd-42ae-938b-c57270f202b5",
    "trusted": true,
    "is_executing": true
   },
   "cell_type": "code",
   "source": [
    "# Correlations among columns\n",
    "plt.matshow(df.corr(method='spearman'),vmax=1,vmin=-1,cmap='PRGn')\n",
    "plt.title('without resampling', size=15)\n",
    "plt.colorbar()\n",
    "plt.show()"
   ],
   "execution_count": null,
   "outputs": []
  },
  {
   "metadata": {
    "_uuid": "b84733df572d0ce0b45c065a18a1f625cb0cf2b4",
    "_cell_guid": "068e0463-8976-4c21-9ec8-da518712413a",
    "trusted": true,
    "is_executing": true
   },
   "cell_type": "code",
   "source": [
    "# Correlations of mean of features resampled over months\n",
    "\n",
    "\n",
    "plt.matshow(df.resample('M').mean().corr(method='spearman'),vmax=1,vmin=-1,cmap='PRGn')\n",
    "plt.title('resampled over month', size=15)\n",
    "plt.colorbar()\n",
    "plt.margins(0.02)\n",
    "plt.matshow(df.resample('A').mean().corr(method='spearman'),vmax=1,vmin=-1,cmap='PRGn')\n",
    "plt.title('resampled over year', size=15)\n",
    "plt.colorbar()\n",
    "plt.show()"
   ],
   "execution_count": null,
   "outputs": []
  },
  {
   "metadata": {
    "_uuid": "e91a1f7bd7cd1fc7cd353c814e0245977b00b286",
    "_cell_guid": "62c92871-2e35-4d0e-a207-883f51c93011"
   },
   "cell_type": "markdown",
   "source": [
    "## * It is seen from above that with resampling techniques one can change the correlations among features. This is important for feature  engineering."
   ]
  },
  {
   "metadata": {
    "_uuid": "96eea7805695f35a1a5175c4f0ff1455a1cdf8ec",
    "_cell_guid": "9228b5ee-3442-4f81-be6d-814625bd9dcf"
   },
   "cell_type": "markdown",
   "source": [
    "# Machine-Leaning: LSTM Data Preparation and feature engineering"
   ]
  },
  {
   "metadata": {
    "_uuid": "c97563723f9719858787bb9492597d78a36b9689",
    "_cell_guid": "785e6236-003c-4563-86bb-4d65ede164db"
   },
   "cell_type": "markdown",
   "source": [
    "### * I will apply recurrent nueral network (LSTM) which is best suited for time-seriers and sequential problem. This approach is the best if we have large data.  \n",
    "\n",
    "### * I will frame the supervised learning problem as predicting the Global_active_power at the current time (t) given the Global_active_power measurement and other features at the prior time step."
   ]
  },
  {
   "metadata": {
    "_uuid": "357627b3b61c052602cc767150e85611349723c9",
    "collapsed": true,
    "_cell_guid": "bbe47808-9a49-4d95-bdcd-4318e52afd3b",
    "trusted": true,
    "is_executing": true
   },
   "cell_type": "code",
   "source": [
    "def series_to_supervised(data, n_in=1, n_out=1, dropnan=True):\n",
    "\tn_vars = 1 if type(data) is list else data.shape[1]\n",
    "\tdff = pd.DataFrame(data)\n",
    "\tcols, names = list(), list()\n",
    "\t# input sequence (t-n, ... t-1)\n",
    "\tfor i in range(n_in, 0, -1):\n",
    "\t\tcols.append(dff.shift(i))\n",
    "\t\tnames += [('var%d(t-%d)' % (j+1, i)) for j in range(n_vars)]\n",
    "\t# forecast sequence (t, t+1, ... t+n)\n",
    "\tfor i in range(0, n_out):\n",
    "\t\tcols.append(dff.shift(-i))\n",
    "\t\tif i == 0:\n",
    "\t\t\tnames += [('var%d(t)' % (j+1)) for j in range(n_vars)]\n",
    "\t\telse:\n",
    "\t\t\tnames += [('var%d(t+%d)' % (j+1, i)) for j in range(n_vars)]\n",
    "\t# put it all together\n",
    "\tagg = pd.concat(cols, axis=1)\n",
    "\tagg.columns = names\n",
    "\t# drop rows with NaN values\n",
    "\tif dropnan:\n",
    "\t\tagg.dropna(inplace=True)\n",
    "\treturn agg\n",
    " "
   ],
   "execution_count": null,
   "outputs": []
  },
  {
   "metadata": {
    "_uuid": "aae2b3dce1d5deede311162f4f87fe177f8658c3",
    "_cell_guid": "54cdd84c-fa72-488f-8ad6-138cd3c75b19"
   },
   "cell_type": "markdown",
   "source": [
    "### * In order to reduce the computation time, and also get a quick result to test the model.  One can resmaple the data over hour (the original data are given in minutes). This will reduce the size of data from 2075259 to 34589 but keep the overall strucure of data as shown in the above.   "
   ]
  },
  {
   "metadata": {
    "_uuid": "c7788fe3aa3b735c17ba173428c24656a88687b8",
    "_cell_guid": "c058e5d7-0a80-47fc-b521-b138ddf35df2",
    "trusted": true,
    "is_executing": true
   },
   "cell_type": "code",
   "source": [
    "## resampling of data over hour\n",
    "df_resample = df.resample('h').mean() \n",
    "df_resample.shape"
   ],
   "execution_count": null,
   "outputs": []
  },
  {
   "metadata": {
    "_uuid": "e52b3318d182b1af08c5b01f7861107b7e502332",
    "_cell_guid": "92446008-96b2-41eb-8443-0891da4f0661",
    "trusted": true
   },
   "cell_type": "code",
   "source": [
    "## * Note: I scale all features in range of [0,1].\n",
    "\n",
    "## If you would like to train based on the resampled data (over hour), then used below\n",
    "values = df_resample.values \n",
    "\n",
    "n_train_time = 365*24\n",
    "train = values[:n_train_time, :]\n",
    "test = values[n_train_time:, :]\n",
    "\n",
    "\n",
    "## full data without resampling\n",
    "#values = df.values\n",
    "\n",
    "# integer encode direction\n",
    "# ensure all data is float\n",
    "#values = values.astype('float32')\n",
    "# normalize features\n",
    "scaler = MinMaxScaler(feature_range=(0, 1))\n",
    "train_scaled = scaler.fit_transform(train)\n",
    "test_scaled = scaler.transform(test)\n",
    "\n",
    "# frame as supervised learning\n",
    "reframed_train = series_to_supervised(train_scaled, 1, 1)\n",
    "reframed_test = series_to_supervised(test_scaled, 1, 1)\n",
    "\n",
    "# drop columns we don't want to predict\n",
    "reframed_train.drop(reframed_train.columns[[8,9,10,11,12,13]], axis=1, inplace=True)\n",
    "reframed_test.drop(reframed_test.columns[[8,9,10,11,12,13]], axis=1, inplace=True)"
   ],
   "execution_count": 0,
   "outputs": []
  },
  {
   "cell_type": "code",
   "execution_count": null,
   "outputs": [],
   "source": [
    "print(reframed_train.head())"
   ],
   "metadata": {
    "collapsed": false
   }
  },
  {
   "cell_type": "code",
   "execution_count": 28,
   "outputs": [
    {
     "name": "stdout",
     "output_type": "stream",
     "text": [
      "   var1(t-1)  var2(t-1)  var3(t-1)  var4(t-1)  var5(t-1)  var6(t-1)  \\\n",
      "1   0.636816   0.295738   0.337945   0.631157        0.0   0.011366   \n",
      "2   0.545045   0.103358   0.335501   0.541487        0.0   0.144652   \n",
      "3   0.509006   0.110073   0.283802   0.502152        0.0   0.030869   \n",
      "4   0.488550   0.096987   0.315987   0.481110        0.0   0.000000   \n",
      "5   0.455597   0.099010   0.434417   0.449904        0.0   0.008973   \n",
      "\n",
      "   var7(t-1)   var1(t)  \n",
      "1   0.782418  0.545045  \n",
      "2   0.782676  0.509006  \n",
      "3   0.774169  0.488550  \n",
      "4   0.778809  0.455597  \n",
      "5   0.798917  0.322555  \n"
     ]
    }
   ],
   "source": [
    "print(reframed_test.head())"
   ],
   "metadata": {
    "collapsed": false,
    "ExecuteTime": {
     "start_time": "2023-09-24T17:38:05.248227258Z"
    }
   }
  },
  {
   "metadata": {
    "_uuid": "56e2075321b9bb71a68c95d89cd456c0d7e06a0c",
    "_cell_guid": "1da3f82c-4d6c-4e61-8d15-9e0d10bbf439"
   },
   "cell_type": "markdown",
   "source": [
    "### * Above I showed 7 input variables (input series) and the 1 output variable for 'Global_active_power' at the current  time in hour (depending on resampling). "
   ]
  },
  {
   "metadata": {
    "_uuid": "88f25976896ce216e7fdb6d4c794ae34afac929e",
    "_cell_guid": "9e68b32c-ffd6-4cf8-80a2-af3a4ceb2475"
   },
   "cell_type": "markdown",
   "source": [
    "# Splitting the rest of data to train and validation sets"
   ]
  },
  {
   "metadata": {
    "_uuid": "04669c30c70976db4c2d1680f3b25954a828d70f",
    "_cell_guid": "9420cfc7-1dfa-4e41-83b0-5e8584141efe"
   },
   "cell_type": "markdown",
   "source": [
    "### * First, I split the prepared dataset into train and test sets. To speed up the training of the model (for the sake of the demonstration), we will only train the model on the first year of data, then evaluate it on the next 3 years of data."
   ]
  },
  {
   "metadata": {
    "_uuid": "e34334eecbc31120132753c7d0f156e448e7499e",
    "_cell_guid": "09d42264-a006-4b74-b15f-335c9eec1ca3",
    "trusted": true,
    "ExecuteTime": {
     "end_time": "2023-09-24T17:38:05.252515980Z",
     "start_time": "2023-09-24T17:38:05.248568987Z"
    }
   },
   "cell_type": "code",
   "source": [
    "# split into train and test sets\n",
    "values = reframed.values\n",
    "\n",
    "n_train_time = 365*24\n",
    "train = values[:n_train_time, :]\n",
    "test = values[n_train_time:, :]\n",
    "##test = values[n_train_time:n_test_time, :]\n",
    "# split into input and outputs\n",
    "train_X, train_y = train[:, :-1], train[:, -1]\n",
    "test_X, test_y = test[:, :-1], test[:, -1]\n",
    "# reshape input to be 3D [samples, timesteps, features]\n",
    "train_X = train_X.reshape((train_X.shape[0], 1, train_X.shape[1]))\n",
    "test_X = test_X.reshape((test_X.shape[0], 1, test_X.shape[1]))\n",
    "print(train_X.shape, train_y.shape, test_X.shape, test_y.shape) \n",
    "# We reshaped the input into the 3D format as expected by LSTMs, namely [samples, timesteps, features]."
   ],
   "execution_count": 29,
   "outputs": [
    {
     "name": "stdout",
     "output_type": "stream",
     "text": [
      "(8760, 1, 7) (8760,) (25828, 1, 7) (25828,)\n"
     ]
    }
   ]
  },
  {
   "metadata": {
    "_uuid": "afb164028f72fc78aa0bca82055f23dd69fe9473",
    "_cell_guid": "58d20cc6-4a51-4c66-9e79-d978de83f873"
   },
   "cell_type": "markdown",
   "source": [
    "# Model architecture\n",
    "\n",
    "### 1)  LSTM with 100 neurons in the first visible layer \n",
    "### 3) dropout 20%\n",
    "### 4) 1 neuron in the output layer for predicting Global_active_power. \n",
    "### 5) The input shape will be 1 time step with 7 features.\n",
    "\n",
    "### 6) I use the Mean Absolute Error (MAE) loss function and the efficient Adam version of stochastic gradient descent.\n",
    "### 7) The model will be fit for 20 training epochs with a batch size of 70.\n"
   ]
  },
  {
   "metadata": {
    "_uuid": "03946922a11d6b62e0990eb4ffa8d52feac9b297",
    "_cell_guid": "444f010e-3459-48b5-89ca-5f33fd8273ea",
    "trusted": true,
    "ExecuteTime": {
     "end_time": "2023-09-24T17:38:21.910865012Z",
     "start_time": "2023-09-24T17:38:05.248942988Z"
    }
   },
   "cell_type": "code",
   "source": [
    "\n",
    "model = Sequential()\n",
    "model.add(LSTM(100, input_shape=(train_X.shape[1], train_X.shape[2])))\n",
    "model.add(Dropout(0.2))\n",
    "#    model.add(LSTM(70))\n",
    "#    model.add(Dropout(0.3))\n",
    "model.add(Dense(1))\n",
    "model.compile(loss='mean_squared_error', optimizer='adam')\n",
    "\n",
    "\n",
    "\n",
    "# fit network\n",
    "history = model.fit(train_X, train_y, epochs=20, batch_size=70, validation_data=(test_X, test_y), verbose=2, shuffle=False)\n",
    "\n",
    "# summarize history for loss\n",
    "plt.plot(history.history['loss'])\n",
    "plt.plot(history.history['val_loss'])\n",
    "plt.title('model loss')\n",
    "plt.ylabel('loss')\n",
    "plt.xlabel('epoch')\n",
    "plt.legend(['train', 'test'], loc='upper right')\n",
    "plt.show()\n",
    "\n",
    "# make a prediction\n",
    "yhat = model.predict(test_X)\n",
    "test_X = test_X.reshape((test_X.shape[0], 7))\n",
    "# invert scaling for forecast\n",
    "inv_yhat = np.concatenate((yhat, test_X[:, -6:]), axis=1)\n",
    "inv_yhat = scaler.inverse_transform(inv_yhat)\n",
    "inv_yhat = inv_yhat[:,0]\n",
    "# invert scaling for actual\n",
    "test_y = test_y.reshape((len(test_y), 1))\n",
    "inv_y = np.concatenate((test_y, test_X[:, -6:]), axis=1)\n",
    "inv_y = scaler.inverse_transform(inv_y)\n",
    "inv_y = inv_y[:,0]\n",
    "# calculate RMSE\n",
    "rmse = np.sqrt(mean_squared_error(inv_y, inv_yhat))\n",
    "print('Test RMSE: %.3f' % rmse)"
   ],
   "execution_count": 30,
   "outputs": [
    {
     "name": "stderr",
     "output_type": "stream",
     "text": [
      "2023-09-24 14:38:05.306479: I tensorflow/compiler/xla/stream_executor/cuda/cuda_gpu_executor.cc:995] successful NUMA node read from SysFS had negative value (-1), but there must be at least one NUMA node, so returning NUMA node zero. See more at https://github.com/torvalds/linux/blob/v6.0/Documentation/ABI/testing/sysfs-bus-pci#L344-L355\n",
      "2023-09-24 14:38:05.308384: W tensorflow/core/common_runtime/gpu/gpu_device.cc:1960] Cannot dlopen some GPU libraries. Please make sure the missing libraries mentioned above are installed properly if you would like to use GPU. Follow the guide at https://www.tensorflow.org/install/gpu for how to download and setup the required libraries for your platform.\n",
      "Skipping registering GPU devices...\n"
     ]
    },
    {
     "name": "stdout",
     "output_type": "stream",
     "text": [
      "Epoch 1/20\n",
      "126/126 - 2s - loss: 0.0217 - val_loss: 0.0124 - 2s/epoch - 18ms/step\n",
      "Epoch 2/20\n",
      "126/126 - 1s - loss: 0.0128 - val_loss: 0.0109 - 587ms/epoch - 5ms/step\n",
      "Epoch 3/20\n",
      "126/126 - 1s - loss: 0.0116 - val_loss: 0.0100 - 601ms/epoch - 5ms/step\n",
      "Epoch 4/20\n",
      "126/126 - 1s - loss: 0.0109 - val_loss: 0.0095 - 608ms/epoch - 5ms/step\n",
      "Epoch 5/20\n",
      "126/126 - 1s - loss: 0.0107 - val_loss: 0.0092 - 607ms/epoch - 5ms/step\n",
      "Epoch 6/20\n",
      "126/126 - 1s - loss: 0.0106 - val_loss: 0.0092 - 604ms/epoch - 5ms/step\n",
      "Epoch 7/20\n",
      "126/126 - 1s - loss: 0.0105 - val_loss: 0.0092 - 637ms/epoch - 5ms/step\n",
      "Epoch 8/20\n",
      "126/126 - 1s - loss: 0.0105 - val_loss: 0.0093 - 607ms/epoch - 5ms/step\n",
      "Epoch 9/20\n",
      "126/126 - 1s - loss: 0.0105 - val_loss: 0.0092 - 609ms/epoch - 5ms/step\n",
      "Epoch 10/20\n",
      "126/126 - 1s - loss: 0.0105 - val_loss: 0.0093 - 600ms/epoch - 5ms/step\n",
      "Epoch 11/20\n",
      "126/126 - 1s - loss: 0.0104 - val_loss: 0.0093 - 630ms/epoch - 5ms/step\n",
      "Epoch 12/20\n",
      "126/126 - 1s - loss: 0.0104 - val_loss: 0.0093 - 635ms/epoch - 5ms/step\n",
      "Epoch 13/20\n",
      "126/126 - 1s - loss: 0.0104 - val_loss: 0.0093 - 629ms/epoch - 5ms/step\n",
      "Epoch 14/20\n",
      "126/126 - 1s - loss: 0.0104 - val_loss: 0.0092 - 635ms/epoch - 5ms/step\n",
      "Epoch 15/20\n",
      "126/126 - 1s - loss: 0.0104 - val_loss: 0.0092 - 632ms/epoch - 5ms/step\n",
      "Epoch 16/20\n",
      "126/126 - 1s - loss: 0.0104 - val_loss: 0.0092 - 657ms/epoch - 5ms/step\n",
      "Epoch 17/20\n",
      "126/126 - 1s - loss: 0.0104 - val_loss: 0.0093 - 659ms/epoch - 5ms/step\n",
      "Epoch 18/20\n",
      "126/126 - 1s - loss: 0.0104 - val_loss: 0.0092 - 647ms/epoch - 5ms/step\n",
      "Epoch 19/20\n",
      "126/126 - 1s - loss: 0.0104 - val_loss: 0.0093 - 643ms/epoch - 5ms/step\n",
      "Epoch 20/20\n",
      "126/126 - 1s - loss: 0.0104 - val_loss: 0.0092 - 692ms/epoch - 5ms/step\n"
     ]
    },
    {
     "data": {
      "text/plain": "<Figure size 640x480 with 1 Axes>",
      "image/png": "[encoded data removed]"
     },
     "metadata": {},
     "output_type": "display_data"
    },
    {
     "name": "stdout",
     "output_type": "stream",
     "text": [
      "808/808 [==============================] - 1s 1ms/step\n",
      "Test RMSE: 0.618\n"
     ]
    }
   ]
  },
  {
   "metadata": {
    "_uuid": "57a7d528a6f621368582f2440bd3b30b0675dd88",
    "_cell_guid": "82163b05-3842-4108-aee9-ca3e4b88d924"
   },
   "cell_type": "markdown",
   "source": [
    "### Note that in order to improve the model, one has to adjust epochs and batch_size."
   ]
  },
  {
   "metadata": {
    "trusted": true,
    "_uuid": "78449473770f61669fa5bd8acedb0b662f48ebac",
    "ExecuteTime": {
     "end_time": "2023-09-24T17:38:22.191982570Z",
     "start_time": "2023-09-24T17:38:21.951236829Z"
    }
   },
   "cell_type": "code",
   "source": [
    "## time steps, every step is one hour (you can easily convert the time step to the actual time index)\n",
    "## for a demonstration purpose, I only compare the predictions in 200 hours. \n",
    "\n",
    "aa=[x for x in range(200)]\n",
    "plt.plot(aa, inv_y[:200], marker='.', label=\"actual\")\n",
    "plt.plot(aa, inv_yhat[:200], 'r', label=\"prediction\")\n",
    "plt.ylabel('Global_active_power', size=15)\n",
    "plt.xlabel('Time step', size=15)\n",
    "plt.legend(fontsize=15)\n",
    "plt.show()"
   ],
   "execution_count": 31,
   "outputs": [
    {
     "data": {
      "text/plain": "<Figure size 640x480 with 1 Axes>",
      "image/png": "[encoded data removed]"
     },
     "metadata": {},
     "output_type": "display_data"
    }
   ]
  },
  {
   "metadata": {
    "_uuid": "34c78f198d644279c82a8bf1cdeca53d41621ef9",
    "_cell_guid": "bfd3c945-8a04-4602-b214-71fae8a0fb51"
   },
   "cell_type": "markdown",
   "source": [
    "# Final remarks"
   ]
  },
  {
   "metadata": {
    "_uuid": "a60be7137757c76c9dd6fc6d3b5c69fbbf707c7b",
    "_cell_guid": "82ade3ad-188b-4ca8-afb2-ab355a7ed6fe"
   },
   "cell_type": "markdown",
   "source": [
    "### * Here I have used the LSTM neural network which is now the state-of-the-art for sequencial problems. \n",
    "\n",
    "### * In order to reduce the computation time, and get some results quickly, I took the first year of data (resampled over hour) to train the model and the rest of data to test the model.  \n",
    "\n",
    "### * I put together a very simple LSTM neural-network to show that one can obtain reasonable predictions. However numbers of rows is too high and as a result the computation is very time-consuming (even for the simple model in the above it took few mins to be run on  2.8 GHz Intel Core i7).  The Best is to write the last part of code using Spark (MLlib) running on GPU.  \n",
    "\n",
    "### * Moreover, the neural-network architecture that I have designed is a toy model. It can be easily improved by adding CNN  and dropout layers.  The CNN is useful here since there are correlations in data (CNN layer is a good way to probe the local structure of data).   "
   ]
  },
  {
   "metadata": {
    "_uuid": "07a28ca8f9c4964fb7a63d49baabdafc29aaf760",
    "collapsed": true,
    "_cell_guid": "9e12fbc0-d0ba-4cce-a202-a2656cb2b1e0",
    "trusted": true,
    "ExecuteTime": {
     "end_time": "2023-09-24T17:38:22.197269368Z",
     "start_time": "2023-09-24T17:38:22.192230073Z"
    }
   },
   "cell_type": "code",
   "source": [],
   "execution_count": 31,
   "outputs": []
  }
 ],
 "metadata": {
  "kernelspec": {
   "display_name": "Python 3",
   "language": "python",
   "name": "python3"
  },
  "language_info": {
   "name": "python",
   "version": "3.6.4",
   "mimetype": "text/x-python",
   "codemirror_mode": {
    "name": "ipython",
    "version": 3
   },
   "pygments_lexer": "ipython3",
   "nbconvert_exporter": "python",
   "file_extension": ".py"
  }
 },
 "nbformat": 4,
 "nbformat_minor": 1
}
