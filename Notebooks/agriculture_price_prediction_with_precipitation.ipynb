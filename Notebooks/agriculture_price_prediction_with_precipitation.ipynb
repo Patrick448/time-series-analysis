{
 "cells": [
  {
   "cell_type": "code",
   "execution_count": null,
   "id": "initial_id",
   "metadata": {
    "collapsed": true
   },
   "outputs": [],
   "source": [
    "import sys \n",
    "import numpy as np # linear algebra\n",
    "from scipy.stats import randint\n",
    "import pandas as pd # data processing, CSV file I/O (e.g. pd.read_csv), data manipulation as in SQL\n",
    "import matplotlib.pyplot as plt # this is used for the plot the graph \n",
    "import matplotlib.dates as mdates\n",
    "import seaborn as sns # used for plot interactive graph. \n",
    "from sklearn.model_selection import train_test_split # to split the data into two parts\n",
    "#from sklearn.cross_validation import KFold # use for cross validation\n",
    "from sklearn.preprocessing import StandardScaler # for normalization\n",
    "from sklearn.preprocessing import MinMaxScaler\n",
    "from sklearn.pipeline import Pipeline # pipeline making\n",
    "from sklearn.model_selection import cross_val_score\n",
    "from sklearn.feature_selection import SelectFromModel\n",
    "from sklearn import metrics # for the check the error and accuracy of the model\n",
    "from sklearn.metrics import mean_squared_error,r2_score\n",
    "\n",
    "## for Deep-learing:\n",
    "import keras\n",
    "from keras.layers import Dense\n",
    "from keras.models import Sequential\n",
    "from keras.utils import to_categorical\n",
    "from keras.optimizers import SGD \n",
    "from keras.callbacks import EarlyStopping\n",
    "#from keras.utils import np_utils\n",
    "import itertools\n",
    "from keras.layers import LSTM\n",
    "from keras.layers import Conv1D\n",
    "from keras.layers import MaxPooling1D\n",
    "from keras.layers import Dropout"
   ]
  },
  {
   "cell_type": "code",
   "outputs": [],
   "source": [
    "df = pd.read_csv('../input/teresopolis-2016-2023-precos-medios.csv', sep=',', \n",
    "                 parse_dates={'dt' : ['Ano', 'Mês', 'Dia']},\n",
    "                 low_memory=False, na_values=['nan','?'], index_col='dt')"
   ],
   "metadata": {
    "collapsed": false
   },
   "id": "d34b8c40370f9202",
   "execution_count": null
  },
  {
   "cell_type": "code",
   "outputs": [],
   "source": [
    "#filtra produto 'Alface Crespa - Roça', mantendo a coluna Preco_unitario\n",
    "filtered_alface_crespa_roca = df[df['Produto'] == 'Alface Crespa - Roça'][['Preco_unitario']]\n",
    "\n",
    "#agrupa por semana\n",
    "filtered_alface_crespa_roca = filtered_alface_crespa_roca.resample('W').mean()\n",
    "\n",
    "#preenche valores faltantes usando interpolação linear\n",
    "filtered_alface_crespa_roca = filtered_alface_crespa_roca.interpolate(method='linear')\n",
    "\n",
    "filtered_alface_crespa_roca.index.tz_localize(\"UTC\").tz_convert(\"America/Sao_Paulo\")\n",
    "\n",
    "#identifica cada semana\n",
    "filtered_alface_crespa_roca['week'] = filtered_alface_crespa_roca.index.strftime('%Y-w%V')\n",
    "\n",
    "#ordena por data\n",
    "filtered_alface_crespa_roca.sort_values(by=['dt'], inplace=True)\n",
    "filtered_alface_crespa_roca"
   ],
   "metadata": {
    "collapsed": false
   },
   "id": "14513ad701ebd9b0",
   "execution_count": null
  },
  {
   "cell_type": "code",
   "outputs": [],
   "source": [
    "columns = [\"PRECIPITAÇÃO TOTAL, HORÁRIO (mm)\",\"PRESSAO ATMOSFERICA AO NIVEL DA ESTACAO, HORARIA (mB)\",\"PRESSÃO ATMOSFERICA MAX.NA HORA ANT. (AUT) (mB)\",\"PRESSÃO ATMOSFERICA MIN. NA HORA ANT. (AUT) (mB)\",\"RADIACAO GLOBAL (Kj/m²)\",\"TEMPERATURA DO AR - BULBO SECO, HORARIA (°C)\",\"TEMPERATURA DO PONTO DE ORVALHO (°C)\",\"TEMPERATURA MÁXIMA NA HORA ANT. (AUT) (°C)\",\"TEMPERATURA MÍNIMA NA HORA ANT. (AUT) (°C)\",\"TEMPERATURA ORVALHO MAX. NA HORA ANT. (AUT) (°C)\",\"TEMPERATURA ORVALHO MIN. NA HORA ANT. (AUT) (°C)\",\"UMIDADE REL. MAX. NA HORA ANT. (AUT) (%)\",\"UMIDADE REL. MIN. NA HORA ANT. (AUT) (%)\",\"UMIDADE RELATIVA DO AR, HORARIA (%)\",\"VENTO, DIREÇÃO HORARIA (gr) (° (gr))\",\"VENTO, RAJADA MAXIMA (m/s)\",\"VENTO, VELOCIDADE HORARIA (m/s)\", \"x\"]\n",
    "\n",
    "weather_df_2023 = pd.read_csv('../input/INMET_SE_RJ_A618_TERESOPOLIS-PARQUE NACIONAL_01-01-2023_A_31-12-2023.CSV', sep=';',parse_dates={'dt': ['Data', 'Hora UTC']}, low_memory=False, decimal=',', na_values=['nan','?'], index_col='dt',skiprows=8, encoding='ISO-8859-1')\n",
    "weather_df_2023.columns = columns\n",
    "\n",
    "weather_df_2022 = pd.read_csv('../input/INMET_SE_RJ_A618_TERESOPOLIS-PARQUE NACIONAL_01-01-2022_A_31-12-2022.CSV', sep=';',parse_dates={'dt': ['Data', 'Hora UTC']}, low_memory=False, decimal=',', na_values=['nan','?'], index_col='dt',skiprows=8, encoding='ISO-8859-1')\n",
    "weather_df_2022.columns = columns\n",
    "\n",
    "weather_df_2021 = pd.read_csv('../input/INMET_SE_RJ_A618_TERESOPOLIS-PARQUE NACIONAL_01-01-2021_A_31-12-2021.CSV', sep=';',parse_dates={'dt': ['Data', 'Hora UTC']}, low_memory=False, decimal=',', na_values=['nan','?'], index_col='dt',skiprows=8, encoding='ISO-8859-1')\n",
    "weather_df_2021.columns = columns\n",
    "\n",
    "weather_df_2020 = pd.read_csv('../input/INMET_SE_RJ_A618_TERESOPOLIS-PARQUE NACIONAL_01-01-2020_A_31-12-2020.CSV', sep=';',parse_dates={'dt': ['Data', 'Hora UTC']}, low_memory=False, decimal=',', na_values=['nan','?'], index_col='dt',skiprows=8, encoding='ISO-8859-1')\n",
    "weather_df_2020.columns = columns\n",
    "\n",
    "weather_df_2019 = pd.read_csv('../input/INMET_SE_RJ_A618_TERESOPOLIS-PARQUE NACIONAL_01-01-2019_A_31-12-2019.CSV', sep=';',parse_dates={'dt': ['Data', 'Hora UTC']}, low_memory=False, decimal=',', na_values=['nan','?'], index_col='dt',skiprows=8, encoding='ISO-8859-1')\n",
    "weather_df_2019.columns = columns\n",
    "\n",
    "#todo: ver como importar os dados de 2016, 2017 e 2018 (estão em outro formato)\n",
    "\n",
    "weather_df = pd.concat([weather_df_2019, weather_df_2020, weather_df_2021, weather_df_2022, weather_df_2023])\n",
    "\n",
    "#weather_df.columns = columns\n",
    "\n",
    "weather_weekly_df = pd.DataFrame(weather_df[[ 'PRECIPITAÇÃO TOTAL, HORÁRIO (mm)', 'RADIACAO GLOBAL (Kj/m²)']].resample('W').mean())\n",
    "weather_weekly_df['week'] = weather_weekly_df.index.strftime('%Y-w%V')\n",
    "#weather_df['RADIACAO GLOBAL (Kj/m²)']"
   ],
   "metadata": {
    "collapsed": false
   },
   "id": "23a9adc36ed804f2",
   "execution_count": null
  },
  {
   "cell_type": "code",
   "outputs": [],
   "source": [
    "weather_weekly_df['RADIACAO GLOBAL (Kj/m²)'].plot()"
   ],
   "metadata": {
    "collapsed": false
   },
   "id": "9bf8c60d261cefc",
   "execution_count": null
  },
  {
   "cell_type": "code",
   "outputs": [],
   "source": [
    "weather_weekly_df['PRECIPITAÇÃO TOTAL, HORÁRIO (mm)'].plot()"
   ],
   "metadata": {
    "collapsed": false
   },
   "id": "313413f972daf2be",
   "execution_count": null
  },
  {
   "cell_type": "code",
   "outputs": [],
   "source": [
    "precos_2023 = filtered_alface_crespa_roca.loc[(filtered_alface_crespa_roca.index>= '2023-01-01')& (filtered_alface_crespa_roca.index < '2023-12-31')]\n",
    "\n",
    "precos_2022 = filtered_alface_crespa_roca.loc[(filtered_alface_crespa_roca.index>= '2022-01-01')& (filtered_alface_crespa_roca.index < '2022-12-31')]\n",
    "\n",
    "\n",
    "precos_2021 = filtered_alface_crespa_roca.loc[(filtered_alface_crespa_roca.index>= '2021-01-01')& (filtered_alface_crespa_roca.index < '2021-12-31')]\n",
    "\n",
    "#.plot(title='Soma Preço unitário x Semana')\n",
    "plt.figure(figsize=(15, 10))\n",
    "\n",
    "\n",
    "plt.subplot(3, 1, 1)\n",
    "plt.plot(precos_2023.Preco_unitario.resample('W').mean())\n",
    "plt.title(\"2023\", y=0.75, loc='right')\n",
    "\n",
    "plt.subplot(3, 1, 2)\n",
    "plt.plot(precos_2022.Preco_unitario.resample('W').mean())\n",
    "plt.title(\"2022\", y=0.75, loc='right')\n",
    "\n",
    "plt.subplot(3, 1, 3)\n",
    "plt.plot(precos_2021.Preco_unitario.resample('W').mean())\n",
    "plt.title(\"2021\", y=0.75, loc='right')"
   ],
   "metadata": {
    "collapsed": false
   },
   "id": "8bd99524e1ffccaa",
   "execution_count": null
  },
  {
   "cell_type": "code",
   "outputs": [],
   "source": [
    "prices_after_2019 = filtered_alface_crespa_roca[filtered_alface_crespa_roca.index >= '2019-01-01']\n",
    "\n",
    "price_weather_df = pd.merge(prices_after_2019, weather_weekly_df, on='week', how='left')\n",
    "price_weather_df.index = prices_after_2019.index\n",
    "\n",
    "price_weather_df[['Preco_unitario', 'PRECIPITAÇÃO TOTAL, HORÁRIO (mm)', 'RADIACAO GLOBAL (Kj/m²)']].plot()\n",
    "\n"
   ],
   "metadata": {
    "collapsed": false
   },
   "id": "dbc4ddac4524ee",
   "execution_count": null
  },
  {
   "cell_type": "code",
   "outputs": [],
   "source": [
    "\n",
    "price_weather_numeric_df = price_weather_df[['Preco_unitario', 'PRECIPITAÇÃO TOTAL, HORÁRIO (mm)', 'RADIACAO GLOBAL (Kj/m²)']]\n",
    "\n",
    "price_precipitation = price_weather_numeric_df[['Preco_unitario', 'PRECIPITAÇÃO TOTAL, HORÁRIO (mm)']]\n",
    "\n",
    "prediction_values = price_precipitation.values\n",
    "\n",
    "train_size = 123\n",
    "validation_size = 62\n",
    "test_size = 62\n",
    "\n",
    "values_train = prediction_values[0:train_size]\n",
    "values_validation = prediction_values[train_size:train_size+validation_size]\n",
    "values_test = prediction_values[train_size+validation_size:247]\n",
    "\n",
    "scaler = MinMaxScaler(feature_range=(0, 1))\n",
    "scaled_train = scaler.fit_transform(values_train)\n",
    "scaled_validation = scaler.transform(values_validation)\n",
    "scaled_test = scaler.transform(values_test)\n"
   ],
   "metadata": {
    "collapsed": false
   },
   "id": "ca2e68e5d28a95db",
   "execution_count": null
  },
  {
   "cell_type": "code",
   "outputs": [],
   "source": [
    "def series_to_supervised(data, n_in=1, n_out=1, dropnan=True):\n",
    "\tn_vars = 1 if type(data) is list else data.shape[1]\n",
    "\tdff = pd.DataFrame(data)\n",
    "\tcols, names = list(), list()\n",
    "\t# input sequence (t-n, ... t-1)\n",
    "\tfor i in range(n_in, 0, -1):\n",
    "\t\tcols.append(dff.shift(i))\n",
    "\t\tnames += [('var%d(t-%d)' % (j+1, i)) for j in range(n_vars)]\n",
    "\t# forecast sequence (t, t+1, ... t+n)\n",
    "\tfor i in range(0, n_out):\n",
    "\t\tcols.append(dff.shift(-i))\n",
    "\t\tif i == 0:\n",
    "\t\t\tnames += [('var%d(t)' % (j+1)) for j in range(n_vars)]\n",
    "\t\telse:\n",
    "\t\t\tnames += [('var%d(t+%d)' % (j+1, i)) for j in range(n_vars)]\n",
    "\t# put it all together\n",
    "\tagg = pd.concat(cols, axis=1)\n",
    "\tagg.columns = names\n",
    "\t# drop rows with NaN values\n",
    "\tif dropnan:\n",
    "\t\tagg.dropna(inplace=True)\n",
    "\treturn agg"
   ],
   "metadata": {
    "collapsed": false
   },
   "id": "b676df3c2bb39f21",
   "execution_count": null
  },
  {
   "cell_type": "code",
   "outputs": [],
   "source": [
    "in_size = 8\n",
    "out_size = 8\n",
    "\n",
    "reframed_train = series_to_supervised(scaled_train, in_size, out_size)\n",
    "reframed_validation = series_to_supervised(scaled_validation, in_size, out_size)\n",
    "reframed_test = series_to_supervised(scaled_test, in_size, out_size)\n",
    "reframed_train"
   ],
   "metadata": {
    "collapsed": false
   },
   "id": "20cd9850c3e36a69",
   "execution_count": null
  },
  {
   "cell_type": "code",
   "outputs": [],
   "source": [
    "[(i,x) for i,x in enumerate(reframed_train.columns)]"
   ],
   "metadata": {
    "collapsed": false
   },
   "id": "9cd34f1c7c7eae0a",
   "execution_count": null
  },
  {
   "cell_type": "code",
   "outputs": [],
   "source": [
    "\n",
    "drop_cols = [17, 19, 21, 23, 25, 27, 29, 31]\n",
    "# drop columns we don't want to predict\n",
    "reframed_train.drop(reframed_train.columns[drop_cols], axis=1, inplace=True)\n",
    "reframed_validation.drop(reframed_validation.columns[drop_cols], axis=1, inplace=True)\n",
    "reframed_test.drop(reframed_test.columns[drop_cols], axis=1, inplace=True)\n",
    "reframed_train"
   ],
   "metadata": {
    "collapsed": false
   },
   "id": "1664774d37d1d7fa",
   "execution_count": null
  },
  {
   "cell_type": "code",
   "outputs": [],
   "source": [
    "#split into input and output\n",
    "train_X, train_Y = reframed_train.values[:, :-8], reframed_train.values[:, -8:]\n",
    "validation_X, validation_Y = reframed_validation.values[:, :-8], reframed_validation.values[:, -8:]\n",
    "test_X, test_Y = reframed_test.values[:, :-8], reframed_test.values[:, -8:]\n"
   ],
   "metadata": {
    "collapsed": false
   },
   "id": "8c86fe4c266e74d7",
   "execution_count": null
  },
  {
   "cell_type": "code",
   "outputs": [],
   "source": [
    "# reshape input to be 3D [samples, timesteps, features]\n",
    "train_X = train_X.reshape((train_X.shape[0], 1, train_X.shape[1]))\n",
    "validation_X = validation_X.reshape((validation_X.shape[0], 1, validation_X.shape[1]))\n",
    "test_X = test_X.reshape((test_X.shape[0], 1, test_X.shape[1]))\n",
    "print(train_X.shape, train_Y.shape, test_X.shape, test_Y.shape)"
   ],
   "metadata": {
    "collapsed": false
   },
   "id": "a1f79659768b1d0f",
   "execution_count": null
  },
  {
   "cell_type": "code",
   "outputs": [],
   "source": [
    "\n",
    "model = Sequential()\n",
    "model.add(LSTM(200, input_shape=(train_X.shape[1], train_X.shape[2])))\n",
    "model.add(Dropout(0.2))\n",
    "model.add(Dense(8))\n",
    "model.compile(loss='mean_squared_error', optimizer='adam')\n",
    "\n",
    "# fit network\n",
    "history = model.fit(train_X, train_Y, epochs=100, batch_size=70, validation_data=(validation_X, validation_Y), verbose=2, shuffle=False)\n",
    "\n",
    "# summarize history for loss\n",
    "plt.plot(history.history['loss'])\n",
    "plt.plot(history.history['val_loss'])\n",
    "plt.title('model loss')\n",
    "plt.ylabel('loss')\n",
    "plt.xlabel('epoch')\n",
    "plt.legend(['train', 'test'], loc='upper right')\n",
    "plt.show()"
   ],
   "metadata": {
    "collapsed": false
   },
   "id": "fefba19fd8db0e28",
   "execution_count": null
  },
  {
   "cell_type": "code",
   "outputs": [],
   "source": [
    "# make a prediction\n",
    "yhat = model.predict(test_X)\n",
    "#test_X = test_X.reshape((test_X.shape[0], 16))"
   ],
   "metadata": {
    "collapsed": false
   },
   "id": "dd6bdaed72c8d166",
   "execution_count": null
  },
  {
   "cell_type": "code",
   "outputs": [],
   "source": [
    "# calculate RMSE\n",
    "rmse = np.sqrt(mean_squared_error(test_Y, yhat))\n",
    "print('Test RMSE: %.3f' % rmse)"
   ],
   "metadata": {
    "collapsed": false
   },
   "id": "c538bffcd77ed370",
   "execution_count": null
  },
  {
   "cell_type": "code",
   "outputs": [],
   "source": [
    "# invert scaling for forecast\n",
    "inv_yhat = np.concatenate((yhat, test_X[:, -1:]), axis=1)\n",
    "inv_yhat = scaler.inverse_transform(inv_yhat)\n",
    "inv_yhat = inv_yhat[:,0]\n",
    "\n",
    "# invert scaling for actual\n",
    "test_Y = test_Y.reshape((len(test_Y), 1))\n",
    "inv_y = np.concatenate((test_Y, test_X[:, -1:]), axis=1)\n",
    "inv_y = scaler.inverse_transform(inv_y)\n",
    "inv_y = inv_y[:,0]\n",
    "\n",
    "# calculate RMSE\n",
    "rmse = np.sqrt(mean_squared_error(inv_y, inv_yhat))\n",
    "print('Test RMSE: %.3f' % rmse)\n",
    "comparison_df = pd.DataFrame({'actual': inv_y, 'predicted': inv_yhat}, index=price_weather_df.index[train_size+validation_size:243])\n",
    "comparison_df.plot()"
   ],
   "metadata": {
    "collapsed": false
   },
   "id": "446e5f773f8f8018",
   "execution_count": null
  },
  {
   "cell_type": "code",
   "outputs": [],
   "source": [],
   "metadata": {
    "collapsed": false
   },
   "id": "7a1e70a5aa0a6786",
   "execution_count": null
  },
  {
   "cell_type": "code",
   "outputs": [],
   "source": [
    "#X = test_X[0, :].reshape((1, 1, test_X.shape[2]))\n",
    "#next_y = model.predict(X)\n",
    "#yhat = [next_y]\n",
    "\n",
    "#for i in range(len(test_Y)-1):\n",
    "#\tX = np.concatenate((X[:, :, 1:], next_y.reshape((1, 1, 1))), axis=2)\n",
    "#\tnext_y = model.predict(X)\n",
    "#\tyhat.append(next_y)\n",
    "\n",
    "#yhat = np.array(yhat).reshape((len(yhat), 1))\n",
    "#test_X = test_X.reshape((test_X.shape[0], 4))\n",
    "\n",
    "# invert scaling for forecast\n",
    "#inv_yhat = np.concatenate((yhat, test_X[:, -1:]), axis=1)\n",
    "#inv_yhat = scaler.inverse_transform(inv_yhat)\n",
    "#inv_yhat = inv_yhat[:,0]\n",
    "\n",
    "# invert scaling for actual\n",
    "#test_Y = test_Y.reshape((len(test_Y), 1))\n",
    "#inv_y = np.concatenate((test_Y, test_X[:, -1:]), axis=1)\n",
    "#inv_y = scaler.inverse_transform(inv_y)\n",
    "#inv_y = inv_y[:,0]\n",
    "\n",
    "# calculate RMSE\n",
    "#rmse = np.sqrt(mean_squared_error(inv_y, inv_yhat))\n",
    "#print('Test RMSE: %.3f' % rmse)\n",
    "#comparison_df = pd.DataFrame({'actual': inv_y, 'predicted': inv_yhat}, index=price_weather_df.index[train_size+validation_size:243])\n",
    "#comparison_df.plot()"
   ],
   "metadata": {
    "collapsed": false
   },
   "id": "a443532060b9ec42",
   "execution_count": null
  },
  {
   "cell_type": "code",
   "outputs": [],
   "source": [
    "\n"
   ],
   "metadata": {
    "collapsed": false
   },
   "id": "17fd9003b474fe2c",
   "execution_count": null
  }
 ],
 "metadata": {
  "kernelspec": {
   "display_name": "Python 3",
   "language": "python",
   "name": "python3"
  },
  "language_info": {
   "codemirror_mode": {
    "name": "ipython",
    "version": 2
   },
   "file_extension": ".py",
   "mimetype": "text/x-python",
   "name": "python",
   "nbconvert_exporter": "python",
   "pygments_lexer": "ipython2",
   "version": "2.7.6"
  }
 },
 "nbformat": 4,
 "nbformat_minor": 5
}
