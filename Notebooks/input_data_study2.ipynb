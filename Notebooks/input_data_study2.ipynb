{
 "cells": [
  {
   "cell_type": "code",
   "execution_count": null,
   "id": "5b822c959f849533",
   "metadata": {
    "collapsed": false
   },
   "outputs": [],
   "source": [
    "import math\n",
    "import sys\n",
    "import numpy as np  # linear algebra\n",
    "from scipy.stats import randint\n",
    "import pandas as pd  # data processing, CSV file I/O (e.g. pd.read_csv), data manipulation as in SQL\n",
    "import matplotlib.pyplot as plt  # this is used for the plot the graph \n",
    "import matplotlib.dates as mdates\n",
    "import seaborn as sns  # used for plot interactive graph. \n",
    "from sklearn.model_selection import train_test_split  # to split the data into two parts\n",
    "#from sklearn.cross_validation import KFold # use for cross validation\n",
    "from sklearn.preprocessing import StandardScaler  # for normalization\n",
    "from sklearn.preprocessing import MinMaxScaler\n",
    "from sklearn.pipeline import Pipeline  # pipeline making\n",
    "from sklearn.model_selection import cross_val_score\n",
    "from sklearn.feature_selection import SelectFromModel\n",
    "from sklearn import metrics  # for the check the error and accuracy of the model\n",
    "from sklearn.metrics import mean_squared_error, r2_score\n",
    "from datetime import timedelta\n",
    "\n",
    "## for Deep-learing:\n",
    "import keras\n",
    "from keras.layers import Dense\n",
    "from keras.models import Sequential\n",
    "from keras.utils import to_categorical\n",
    "from keras.optimizers import SGD\n",
    "from keras.callbacks import EarlyStopping\n",
    "#from keras.utils import np_utils\n",
    "import itertools\n",
    "from keras.layers import LSTM\n",
    "from keras.layers import Conv1D\n",
    "from keras.layers import MaxPooling1D\n",
    "from keras.layers import Dropout\n",
    "from custom_transforms.transforms import *\n",
    "\n",
    "df = pd.read_csv('../input/teresopolis-2016-2023-precos-medios.csv', sep=',',\n",
    "                 parse_dates={'dt': ['Ano', 'Mês', 'Dia']},\n",
    "                 low_memory=False, na_values=['nan', '?'], index_col='dt')\n",
    "\n",
    "filtered_alface_crespa_roca = df[df['Produto'] == 'Alface Crespa - Roça'][['Preco_unitario']]\n",
    "filtered_alface_crespa_roca = filtered_alface_crespa_roca.resample('W').mean()\n",
    "filtered_alface_crespa_roca = filtered_alface_crespa_roca.interpolate(method='linear')\n",
    "filtered_alface_crespa_roca.index = filtered_alface_crespa_roca.index.tz_localize(\"UTC\")\n",
    "filtered_alface_crespa_roca.sort_values(by=['dt'], inplace=True)\n",
    "filtered_alface_crespa_roca[\n",
    "    \"first_day_week\"] = filtered_alface_crespa_roca.index - filtered_alface_crespa_roca.index.weekday * timedelta(\n",
    "    days=1)\n",
    "\n",
    "weather_df = pd.read_csv('../processed_data/weather_2016_2023.csv', index_col=0)\n",
    "weather_df.index = pd.to_datetime(weather_df.index, utc=True)\n",
    "weather_df.drop(columns=['x'], inplace=True)\n",
    "\n",
    "weather_df = weather_df[(weather_df.index >= '2016-04-24') & (weather_df.index <= '2023-09-24')]\n",
    "\n",
    "\n",
    "weather_weekly_df = pd.DataFrame(\n",
    "    weather_df.resample('W').mean())\n",
    "weather_weekly_df[\"first_day_week\"] = (weather_weekly_df.index - weather_weekly_df.index.weekday * timedelta(days=1))\n",
    "\n",
    "\n",
    "price_weather_df = pd.merge(filtered_alface_crespa_roca, weather_weekly_df, on='first_day_week', how='left')\n",
    "price_weather_df.index = filtered_alface_crespa_roca.index\n",
    "\n",
    "#for col in weather_df.columns:\n",
    "#    weather_df[col] = weather_df[col].replace(-9999, None)"
   ]
  },
  {
   "cell_type": "code",
   "outputs": [],
   "source": [
    "price_weather_df['Preco_unitario'].plot(figsize=(15, 6))"
   ],
   "metadata": {
    "collapsed": false
   },
   "id": "41702a5bc9e0f34f",
   "execution_count": null
  },
  {
   "cell_type": "code",
   "outputs": [],
   "source": [
    "price_weather_df.columns"
   ],
   "metadata": {
    "collapsed": false
   },
   "id": "fac91a4acc17a582",
   "execution_count": null
  },
  {
   "cell_type": "code",
   "outputs": [],
   "source": [
    "#plot correlation matrix\n",
    "price_weather_df['Preco_unitario_shift_-1'] = price_weather_df['Preco_unitario'].shift(-1)\n",
    "price_weather_df['Preco_unitario_shift_-2'] = price_weather_df['Preco_unitario'].shift(-2)\n",
    "price_weather_df['Preco_unitario_shift_-3'] = price_weather_df['Preco_unitario'].shift(-3)\n",
    "price_weather_df['Preco_unitario_shift_-4'] = price_weather_df['Preco_unitario'].shift(-4)\n",
    "price_weather_df['Preco_unitario_shift_-5'] = price_weather_df['Preco_unitario'].shift(-5)\n",
    "price_weather_df['Preco_unitario_shift_-6'] = price_weather_df['Preco_unitario'].shift(-6)\n",
    "price_weather_df['Preco_unitario_shift_-7'] = price_weather_df['Preco_unitario'].shift(-7)\n",
    "price_weather_df['Preco_unitario_shift_-8'] = price_weather_df['Preco_unitario'].shift(-8)\n",
    "price_weather_df['Preco_unitario_shift_-9'] = price_weather_df['Preco_unitario'].shift(-9)\n",
    "price_weather_df['Preco_unitario_shift_-10'] = price_weather_df['Preco_unitario'].shift(-10)\n",
    "price_weather_df['Preco_unitario_shift_-11'] = price_weather_df['Preco_unitario'].shift(-11)\n",
    "price_weather_df['Preco_unitario_shift_-12'] = price_weather_df['Preco_unitario'].shift(-12)\n",
    "\n",
    "cor = price_weather_df.corr(method=\"spearman\")"
   ],
   "metadata": {
    "collapsed": false
   },
   "id": "16b85b23685b8911",
   "execution_count": null
  },
  {
   "cell_type": "code",
   "outputs": [],
   "source": [
    "price_weather_df['Preco_unitario_shift_-1'].plot(figsize=(15, 6), legend=True)\n",
    "price_weather_df['Preco_unitario_shift_-12'].plot(figsize=(15, 6),legend=True)\n",
    "plt.figure()"
   ],
   "metadata": {
    "collapsed": false
   },
   "id": "1c8e95b4837d53f",
   "execution_count": null
  },
  {
   "cell_type": "code",
   "outputs": [],
   "source": [
    "plt.figure(figsize=(24, 20))\n",
    "sns.heatmap(cor,  cmap=plt.cm.hot, annot=True)\n",
    "plt.show()"
   ],
   "metadata": {
    "collapsed": false
   },
   "id": "70104dd9e9876b9e",
   "execution_count": null
  },
  {
   "cell_type": "code",
   "outputs": [],
   "source": [
    "\n",
    "s = pd.Series(price_weather_df['Preco_unitario'])"
   ],
   "metadata": {
    "collapsed": false
   },
   "id": "ea72d0921635f841",
   "execution_count": null
  },
  {
   "cell_type": "code",
   "outputs": [],
   "source": [],
   "metadata": {
    "collapsed": false
   },
   "id": "d64e8fad5600c157",
   "execution_count": null
  },
  {
   "cell_type": "code",
   "outputs": [],
   "source": [
    "l = (weather_df[\"RADIACAO GLOBAL (Kj/m²)\"] == -9999)\n"
   ],
   "metadata": {
    "collapsed": false
   },
   "id": "6d1773e25e9e5364",
   "execution_count": null
  },
  {
   "cell_type": "code",
   "outputs": [],
   "source": [
    "missing_df_mask = pd.DataFrame()\n",
    "cols_with_missing_values = []\n",
    "missing_values_by_col_dict_list = []\n",
    "for col in weather_df.columns:\n",
    "    df_missing = weather_df[[col]][(weather_df[col] == -9999)]\n",
    "    missing_df_mask[col] = (weather_df[col] == -9999)\n",
    "    if len(df_missing) > 10:\n",
    "        cols_with_missing_values.append(col)\n",
    "        print(col)\n",
    "        print(len(df_missing))\n",
    "        print(len(df_missing) / len(weather_df))\n",
    "        \n",
    "        missing_values_by_col_dict_list.append({'col': col, 'missing_values': len(df_missing), 'missing_values_ratio': len(df_missing) / len(weather_df)})\n",
    "        \n",
    "        print('-------------------')\n",
    "\n",
    "\n"
   ],
   "metadata": {
    "collapsed": false
   },
   "id": "6780d7cdd4edecf6",
   "execution_count": null
  },
  {
   "cell_type": "code",
   "outputs": [],
   "source": [
    "missing_values_by_col_df = pd.DataFrame(missing_values_by_col_dict_list)\n",
    "missing_values_by_col_df"
   ],
   "metadata": {
    "collapsed": false
   },
   "id": "62e2d8f53d8a160c",
   "execution_count": null
  },
  {
   "cell_type": "code",
   "outputs": [],
   "source": [
    "missing_block_sizes = {}\n",
    "missing_df_mask\n",
    "\n",
    "for col in missing_values_by_col_df['col']:\n",
    "    missing_block_sizes[col] = []\n",
    "    values = missing_df_mask[col].values\n",
    "    count = 0\n",
    "    for v in values:\n",
    "        if v:\n",
    "            count += 1\n",
    "        else:\n",
    "            if count > 0:\n",
    "                missing_block_sizes[col].append(count)\n",
    "                count = 0\n",
    "                \n",
    "    #missing_block_sizes[col] = pd.Series(missing_block_sizes[col])\n",
    "    \n",
    "plt.figure(figsize=(15, 6))\n",
    "plt.boxplot(missing_block_sizes.values(), labels=missing_block_sizes.keys())\n",
    "plt.xticks(rotation=90)\n",
    "\n",
    "missing_values_by_col_df.plot(kind='bar', x='col', y='missing_values_ratio', figsize=(15, 6))\n"
   ],
   "metadata": {
    "collapsed": false
   },
   "id": "82976850c934d16f",
   "execution_count": null
  },
  {
   "cell_type": "code",
   "outputs": [],
   "source": [
    "#for col in weather_df.columns:\n",
    "    #weather_df[col] = weather_df[col].replace(-9999, None)\n",
    "weather_df[['RADIACAO GLOBAL (Kj/m²)']].resample('W').max().plot(figsize=(15, 6))\n",
    "plt.show()"
   ],
   "metadata": {
    "collapsed": false
   },
   "id": "a58214c60b252633",
   "execution_count": null
  },
  {
   "cell_type": "code",
   "outputs": [],
   "source": [
    "weather_df[['PRECIPITAÇÃO TOTAL, HORÁRIO (mm)']].resample('W').mean().plot(figsize=(15, 6))\n",
    "plt.show()"
   ],
   "metadata": {
    "collapsed": false
   },
   "id": "59fa6fcc00ee520c",
   "execution_count": null
  },
  {
   "cell_type": "code",
   "outputs": [],
   "source": [
    "weather_df[['TEMPERATURA DO AR - BULBO SECO, HORARIA (°C)']].resample('W').mean().plot(figsize=(15, 6))\n",
    "plt.show()"
   ],
   "metadata": {
    "collapsed": false
   },
   "id": "f017f585fc54f316",
   "execution_count": null
  },
  {
   "cell_type": "code",
   "outputs": [],
   "source": [
    "for col in weather_df.columns:\n",
    "    weather_df[col] = weather_df[col].replace(-9999, None)"
   ],
   "metadata": {
    "collapsed": false
   },
   "id": "f6330ab5d155ac87",
   "execution_count": null
  },
  {
   "cell_type": "code",
   "outputs": [],
   "source": [
    "price_series = pd.Series(price_weather_df[['Preco_unitario']].values[:, 0])\n"
   ],
   "metadata": {
    "collapsed": false
   },
   "id": "f858f7ff8a386ed3",
   "execution_count": null
  },
  {
   "cell_type": "code",
   "outputs": [],
   "source": [
    "plt.figure(figsize=(10, 4))\n",
    "plt.xticks(range(0, len(price_series), 20),  rotation=0)\n",
    "pd.plotting.autocorrelation_plot(price_series)\n",
    "\n",
    "plt.show()"
   ],
   "metadata": {
    "collapsed": false
   },
   "id": "a0d80cfda215d77a",
   "execution_count": null
  }
 ],
 "metadata": {
  "kernelspec": {
   "display_name": "Python 3",
   "language": "python",
   "name": "python3"
  },
  "language_info": {
   "codemirror_mode": {
    "name": "ipython",
    "version": 2
   },
   "file_extension": ".py",
   "mimetype": "text/x-python",
   "name": "python",
   "nbconvert_exporter": "python",
   "pygments_lexer": "ipython2",
   "version": "2.7.6"
  }
 },
 "nbformat": 4,
 "nbformat_minor": 5
}
