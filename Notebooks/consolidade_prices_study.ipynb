{
 "cells": [
  {
   "cell_type": "code",
   "execution_count": null,
   "id": "1cfd08edb5148c55",
   "metadata": {
    "collapsed": false
   },
   "outputs": [],
   "source": [
    "import pandas as pd\n",
    "import re\n",
    "\n",
    "df = pd.read_csv('../input/20240331174102-precos-medios.csv', parse_dates={'dt' : ['Ano', 'Mês', 'Dia']}, index_col='dt')\n",
    "df.index = df.index.tz_localize('UTC')\n",
    "df.drop(columns=['Região', 'Moeda'], inplace=True)\n",
    "df['Unidade'] = [int(re.findall('\\d+',i)[0]) for i in df['Unidade']]\n",
    "df['Preço'] = [float(re.sub(',', '.', i)) for i in df['Preço']]\n",
    "df.columns = ['produto', 'unidade', 'preco']\n",
    "df['preco_unitario'] = df['preco'] / df['unidade']"
   ]
  },
  {
   "cell_type": "code",
   "outputs": [],
   "source": [
    "products = df['produto'].unique()\n",
    "df[df['produto'] == products[0]]"
   ],
   "metadata": {
    "collapsed": false
   },
   "id": "a8e157185b0e1d09",
   "execution_count": null
  },
  {
   "cell_type": "code",
   "outputs": [],
   "source": [
    "\n",
    "new_df = pd.DataFrame()\n",
    "new_df.index = df.index.drop_duplicates()\n"
   ],
   "metadata": {
    "collapsed": false
   },
   "id": "2b644eb4f9be7ead",
   "execution_count": null
  },
  {
   "cell_type": "code",
   "outputs": [],
   "source": [
    "\n",
    "for product in products:\n",
    "    temp_df = df[df['produto'] == product][['preco_unitario']]\n",
    "    temp_df.columns = [product]\n",
    "    new_df =new_df.join(temp_df, how='outer')\n",
    "\n"
   ],
   "metadata": {
    "collapsed": false
   },
   "id": "f5cfbb5ffe4ef063",
   "execution_count": null
  },
  {
   "cell_type": "code",
   "outputs": [],
   "source": [
    "new_df.to_csv('../processed_data/prices-2016-2024.csv')"
   ],
   "metadata": {
    "collapsed": true
   },
   "id": "initial_id",
   "execution_count": null
  }
 ],
 "metadata": {
  "kernelspec": {
   "display_name": "Python 3",
   "language": "python",
   "name": "python3"
  },
  "language_info": {
   "codemirror_mode": {
    "name": "ipython",
    "version": 2
   },
   "file_extension": ".py",
   "mimetype": "text/x-python",
   "name": "python",
   "nbconvert_exporter": "python",
   "pygments_lexer": "ipython2",
   "version": "2.7.6"
  }
 },
 "nbformat": 4,
 "nbformat_minor": 5
}
