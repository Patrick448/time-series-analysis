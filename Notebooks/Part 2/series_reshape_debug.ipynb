{
 "cells": [
  {
   "cell_type": "code",
   "execution_count": 11,
   "id": "initial_id",
   "metadata": {
    "collapsed": true,
    "ExecuteTime": {
     "end_time": "2025-06-04T23:11:14.059632Z",
     "start_time": "2025-06-04T23:11:14.052070Z"
    }
   },
   "outputs": [],
   "source": [
    "import pandas as pd\n",
    "\n",
    "\n",
    "def transform( X, n_in, n_out,dropnan=False):\n",
    "    n_vars = 1 if type(X) is list else X.shape[1]\n",
    "    dff = pd.DataFrame(X)\n",
    "    cols, names = list(), list()\n",
    "    # input sequence (t-n, ... t-1)\n",
    "    for i in range(n_in, 0, -1):\n",
    "        cols.append(dff.shift(i))\n",
    "        names += [('var%d(t-%d)' % (j + 1, i)) for j in range(n_vars)]\n",
    "    # forecast sequence (t, t+1, ... t+n)\n",
    "    for i in range(0, n_out):\n",
    "        cols.append(dff.shift(-i))\n",
    "        if i == 0:\n",
    "            names += [('var%d(t)' % (j + 1)) for j in range(n_vars)]\n",
    "        else:\n",
    "            names += [('var%d(t+%d)' % (j + 1, i)) for j in range(n_vars)]\n",
    "    # put it all together\n",
    "    agg = pd.concat(cols, axis=1)\n",
    "    agg.columns = names\n",
    "    # drop rows with NaN values\n",
    "    if dropnan:\n",
    "        agg.dropna(inplace=True)\n",
    "    return agg"
   ]
  },
  {
   "cell_type": "code",
   "outputs": [
    {
     "data": {
      "text/plain": "                               pred       ref\ndt                                           \n2021-09-12 00:00:00+00:00  0.476966  0.388750\n2021-09-19 00:00:00+00:00  0.480744  0.388750\n2021-09-26 00:00:00+00:00  0.392700  0.340417\n2021-10-03 00:00:00+00:00  0.496629  0.326250\n2021-10-10 00:00:00+00:00  0.479262  0.317083\n...                             ...       ...\n2023-12-03 00:00:00+00:00  0.618419  0.750000\n2023-12-10 00:00:00+00:00  0.639893  0.677083\n2023-12-17 00:00:00+00:00  0.587176  0.562500\n2023-12-24 00:00:00+00:00  0.617031  0.562500\n2023-12-31 00:00:00+00:00  0.622052  0.625000\n\n[121 rows x 2 columns]",
      "text/html": "<div>\n<style scoped>\n    .dataframe tbody tr th:only-of-type {\n        vertical-align: middle;\n    }\n\n    .dataframe tbody tr th {\n        vertical-align: top;\n    }\n\n    .dataframe thead th {\n        text-align: right;\n    }\n</style>\n<table border=\"1\" class=\"dataframe\">\n  <thead>\n    <tr style=\"text-align: right;\">\n      <th></th>\n      <th>pred</th>\n      <th>ref</th>\n    </tr>\n    <tr>\n      <th>dt</th>\n      <th></th>\n      <th></th>\n    </tr>\n  </thead>\n  <tbody>\n    <tr>\n      <th>2021-09-12 00:00:00+00:00</th>\n      <td>0.476966</td>\n      <td>0.388750</td>\n    </tr>\n    <tr>\n      <th>2021-09-19 00:00:00+00:00</th>\n      <td>0.480744</td>\n      <td>0.388750</td>\n    </tr>\n    <tr>\n      <th>2021-09-26 00:00:00+00:00</th>\n      <td>0.392700</td>\n      <td>0.340417</td>\n    </tr>\n    <tr>\n      <th>2021-10-03 00:00:00+00:00</th>\n      <td>0.496629</td>\n      <td>0.326250</td>\n    </tr>\n    <tr>\n      <th>2021-10-10 00:00:00+00:00</th>\n      <td>0.479262</td>\n      <td>0.317083</td>\n    </tr>\n    <tr>\n      <th>...</th>\n      <td>...</td>\n      <td>...</td>\n    </tr>\n    <tr>\n      <th>2023-12-03 00:00:00+00:00</th>\n      <td>0.618419</td>\n      <td>0.750000</td>\n    </tr>\n    <tr>\n      <th>2023-12-10 00:00:00+00:00</th>\n      <td>0.639893</td>\n      <td>0.677083</td>\n    </tr>\n    <tr>\n      <th>2023-12-17 00:00:00+00:00</th>\n      <td>0.587176</td>\n      <td>0.562500</td>\n    </tr>\n    <tr>\n      <th>2023-12-24 00:00:00+00:00</th>\n      <td>0.617031</td>\n      <td>0.562500</td>\n    </tr>\n    <tr>\n      <th>2023-12-31 00:00:00+00:00</th>\n      <td>0.622052</td>\n      <td>0.625000</td>\n    </tr>\n  </tbody>\n</table>\n<p>121 rows × 2 columns</p>\n</div>"
     },
     "execution_count": 12,
     "metadata": {},
     "output_type": "execute_result"
    }
   ],
   "source": [
    "sarimax_df =  pd.read_csv('pred_ref.csv', parse_dates=True, index_col='dt')\n",
    "sarimax_df"
   ],
   "metadata": {
    "collapsed": false,
    "ExecuteTime": {
     "end_time": "2025-06-04T23:11:14.078617Z",
     "start_time": "2025-06-04T23:11:14.063931Z"
    }
   },
   "id": "ae84c607b66335b",
   "execution_count": 12
  },
  {
   "cell_type": "code",
   "outputs": [
    {
     "data": {
      "text/plain": "     var1(t-8)  var1(t-7)  var1(t-6)  var1(t-5)  var1(t-4)  var1(t-3)  \\\n8     0.388750   0.388750   0.340417   0.326250   0.317083   0.330833   \n9     0.388750   0.340417   0.326250   0.317083   0.330833   0.407500   \n10    0.340417   0.326250   0.317083   0.330833   0.407500   0.476667   \n11    0.326250   0.317083   0.330833   0.407500   0.476667   0.708333   \n12    0.317083   0.330833   0.407500   0.476667   0.708333   0.708333   \n..         ...        ...        ...        ...        ...        ...   \n109   0.437500   0.408333   0.375000   0.354167   0.333333   0.408333   \n110   0.408333   0.375000   0.354167   0.333333   0.408333   0.366667   \n111   0.375000   0.354167   0.333333   0.408333   0.366667   0.354167   \n112   0.354167   0.333333   0.408333   0.366667   0.354167   0.503125   \n113   0.333333   0.408333   0.366667   0.354167   0.503125   0.652083   \n\n     var1(t-2)  var1(t-1)   var1(t)  var1(t+1)  var1(t+2)  var1(t+3)  \\\n8     0.407500   0.476667  0.708333   0.708333   0.763750   0.763750   \n9     0.476667   0.708333  0.708333   0.763750   0.763750   0.763750   \n10    0.708333   0.708333  0.763750   0.763750   0.763750   0.763750   \n11    0.708333   0.763750  0.763750   0.763750   0.763750   0.388750   \n12    0.763750   0.763750  0.763750   0.763750   0.388750   0.416667   \n..         ...        ...       ...        ...        ...        ...   \n109   0.366667   0.354167  0.503125   0.652083   0.801042   0.950000   \n110   0.354167   0.503125  0.652083   0.801042   0.950000   0.950000   \n111   0.503125   0.652083  0.801042   0.950000   0.950000   1.510417   \n112   0.652083   0.801042  0.950000   0.950000   1.510417   1.225000   \n113   0.801042   0.950000  0.950000   1.510417   1.225000   0.750000   \n\n     var1(t+4)  var1(t+5)  var1(t+6)  var1(t+7)  \n8     0.763750   0.763750   0.388750   0.416667  \n9     0.763750   0.388750   0.416667   0.375000  \n10    0.388750   0.416667   0.375000   0.416667  \n11    0.416667   0.375000   0.416667   0.763750  \n12    0.375000   0.416667   0.763750   0.944583  \n..         ...        ...        ...        ...  \n109   0.950000   1.510417   1.225000   0.750000  \n110   1.510417   1.225000   0.750000   0.677083  \n111   1.225000   0.750000   0.677083   0.562500  \n112   0.750000   0.677083   0.562500   0.562500  \n113   0.677083   0.562500   0.562500   0.625000  \n\n[106 rows x 16 columns]",
      "text/html": "<div>\n<style scoped>\n    .dataframe tbody tr th:only-of-type {\n        vertical-align: middle;\n    }\n\n    .dataframe tbody tr th {\n        vertical-align: top;\n    }\n\n    .dataframe thead th {\n        text-align: right;\n    }\n</style>\n<table border=\"1\" class=\"dataframe\">\n  <thead>\n    <tr style=\"text-align: right;\">\n      <th></th>\n      <th>var1(t-8)</th>\n      <th>var1(t-7)</th>\n      <th>var1(t-6)</th>\n      <th>var1(t-5)</th>\n      <th>var1(t-4)</th>\n      <th>var1(t-3)</th>\n      <th>var1(t-2)</th>\n      <th>var1(t-1)</th>\n      <th>var1(t)</th>\n      <th>var1(t+1)</th>\n      <th>var1(t+2)</th>\n      <th>var1(t+3)</th>\n      <th>var1(t+4)</th>\n      <th>var1(t+5)</th>\n      <th>var1(t+6)</th>\n      <th>var1(t+7)</th>\n    </tr>\n  </thead>\n  <tbody>\n    <tr>\n      <th>8</th>\n      <td>0.388750</td>\n      <td>0.388750</td>\n      <td>0.340417</td>\n      <td>0.326250</td>\n      <td>0.317083</td>\n      <td>0.330833</td>\n      <td>0.407500</td>\n      <td>0.476667</td>\n      <td>0.708333</td>\n      <td>0.708333</td>\n      <td>0.763750</td>\n      <td>0.763750</td>\n      <td>0.763750</td>\n      <td>0.763750</td>\n      <td>0.388750</td>\n      <td>0.416667</td>\n    </tr>\n    <tr>\n      <th>9</th>\n      <td>0.388750</td>\n      <td>0.340417</td>\n      <td>0.326250</td>\n      <td>0.317083</td>\n      <td>0.330833</td>\n      <td>0.407500</td>\n      <td>0.476667</td>\n      <td>0.708333</td>\n      <td>0.708333</td>\n      <td>0.763750</td>\n      <td>0.763750</td>\n      <td>0.763750</td>\n      <td>0.763750</td>\n      <td>0.388750</td>\n      <td>0.416667</td>\n      <td>0.375000</td>\n    </tr>\n    <tr>\n      <th>10</th>\n      <td>0.340417</td>\n      <td>0.326250</td>\n      <td>0.317083</td>\n      <td>0.330833</td>\n      <td>0.407500</td>\n      <td>0.476667</td>\n      <td>0.708333</td>\n      <td>0.708333</td>\n      <td>0.763750</td>\n      <td>0.763750</td>\n      <td>0.763750</td>\n      <td>0.763750</td>\n      <td>0.388750</td>\n      <td>0.416667</td>\n      <td>0.375000</td>\n      <td>0.416667</td>\n    </tr>\n    <tr>\n      <th>11</th>\n      <td>0.326250</td>\n      <td>0.317083</td>\n      <td>0.330833</td>\n      <td>0.407500</td>\n      <td>0.476667</td>\n      <td>0.708333</td>\n      <td>0.708333</td>\n      <td>0.763750</td>\n      <td>0.763750</td>\n      <td>0.763750</td>\n      <td>0.763750</td>\n      <td>0.388750</td>\n      <td>0.416667</td>\n      <td>0.375000</td>\n      <td>0.416667</td>\n      <td>0.763750</td>\n    </tr>\n    <tr>\n      <th>12</th>\n      <td>0.317083</td>\n      <td>0.330833</td>\n      <td>0.407500</td>\n      <td>0.476667</td>\n      <td>0.708333</td>\n      <td>0.708333</td>\n      <td>0.763750</td>\n      <td>0.763750</td>\n      <td>0.763750</td>\n      <td>0.763750</td>\n      <td>0.388750</td>\n      <td>0.416667</td>\n      <td>0.375000</td>\n      <td>0.416667</td>\n      <td>0.763750</td>\n      <td>0.944583</td>\n    </tr>\n    <tr>\n      <th>...</th>\n      <td>...</td>\n      <td>...</td>\n      <td>...</td>\n      <td>...</td>\n      <td>...</td>\n      <td>...</td>\n      <td>...</td>\n      <td>...</td>\n      <td>...</td>\n      <td>...</td>\n      <td>...</td>\n      <td>...</td>\n      <td>...</td>\n      <td>...</td>\n      <td>...</td>\n      <td>...</td>\n    </tr>\n    <tr>\n      <th>109</th>\n      <td>0.437500</td>\n      <td>0.408333</td>\n      <td>0.375000</td>\n      <td>0.354167</td>\n      <td>0.333333</td>\n      <td>0.408333</td>\n      <td>0.366667</td>\n      <td>0.354167</td>\n      <td>0.503125</td>\n      <td>0.652083</td>\n      <td>0.801042</td>\n      <td>0.950000</td>\n      <td>0.950000</td>\n      <td>1.510417</td>\n      <td>1.225000</td>\n      <td>0.750000</td>\n    </tr>\n    <tr>\n      <th>110</th>\n      <td>0.408333</td>\n      <td>0.375000</td>\n      <td>0.354167</td>\n      <td>0.333333</td>\n      <td>0.408333</td>\n      <td>0.366667</td>\n      <td>0.354167</td>\n      <td>0.503125</td>\n      <td>0.652083</td>\n      <td>0.801042</td>\n      <td>0.950000</td>\n      <td>0.950000</td>\n      <td>1.510417</td>\n      <td>1.225000</td>\n      <td>0.750000</td>\n      <td>0.677083</td>\n    </tr>\n    <tr>\n      <th>111</th>\n      <td>0.375000</td>\n      <td>0.354167</td>\n      <td>0.333333</td>\n      <td>0.408333</td>\n      <td>0.366667</td>\n      <td>0.354167</td>\n      <td>0.503125</td>\n      <td>0.652083</td>\n      <td>0.801042</td>\n      <td>0.950000</td>\n      <td>0.950000</td>\n      <td>1.510417</td>\n      <td>1.225000</td>\n      <td>0.750000</td>\n      <td>0.677083</td>\n      <td>0.562500</td>\n    </tr>\n    <tr>\n      <th>112</th>\n      <td>0.354167</td>\n      <td>0.333333</td>\n      <td>0.408333</td>\n      <td>0.366667</td>\n      <td>0.354167</td>\n      <td>0.503125</td>\n      <td>0.652083</td>\n      <td>0.801042</td>\n      <td>0.950000</td>\n      <td>0.950000</td>\n      <td>1.510417</td>\n      <td>1.225000</td>\n      <td>0.750000</td>\n      <td>0.677083</td>\n      <td>0.562500</td>\n      <td>0.562500</td>\n    </tr>\n    <tr>\n      <th>113</th>\n      <td>0.333333</td>\n      <td>0.408333</td>\n      <td>0.366667</td>\n      <td>0.354167</td>\n      <td>0.503125</td>\n      <td>0.652083</td>\n      <td>0.801042</td>\n      <td>0.950000</td>\n      <td>0.950000</td>\n      <td>1.510417</td>\n      <td>1.225000</td>\n      <td>0.750000</td>\n      <td>0.677083</td>\n      <td>0.562500</td>\n      <td>0.562500</td>\n      <td>0.625000</td>\n    </tr>\n  </tbody>\n</table>\n<p>106 rows × 16 columns</p>\n</div>"
     },
     "execution_count": 13,
     "metadata": {},
     "output_type": "execute_result"
    }
   ],
   "source": [
    "transform(sarimax_df['ref'].values.tolist(), 8, 8, dropnan=True)"
   ],
   "metadata": {
    "collapsed": false,
    "ExecuteTime": {
     "end_time": "2025-06-04T23:11:14.096848Z",
     "start_time": "2025-06-04T23:11:14.080107Z"
    }
   },
   "id": "e7a48414fbeb1760",
   "execution_count": 13
  }
 ],
 "metadata": {
  "kernelspec": {
   "display_name": "Python 3",
   "language": "python",
   "name": "python3"
  },
  "language_info": {
   "codemirror_mode": {
    "name": "ipython",
    "version": 2
   },
   "file_extension": ".py",
   "mimetype": "text/x-python",
   "name": "python",
   "nbconvert_exporter": "python",
   "pygments_lexer": "ipython2",
   "version": "2.7.6"
  }
 },
 "nbformat": 4,
 "nbformat_minor": 5
}
