{
 "cells": [
  {
   "cell_type": "code",
   "execution_count": null,
   "id": "c25c544331d773bf",
   "metadata": {
    "collapsed": false
   },
   "outputs": [],
   "source": [
    "import numpy as np\n",
    "from sklearn.model_selection import TimeSeriesSplit"
   ]
  },
  {
   "cell_type": "code",
   "outputs": [
    {
     "data": {
      "text/plain": "array([[1, 2],\n       [3, 4],\n       [1, 2],\n       [3, 4],\n       [1, 2],\n       [3, 4],\n       [1, 2],\n       [3, 4],\n       [1, 2],\n       [3, 4],\n       [1, 2],\n       [3, 4]])"
     },
     "execution_count": 4,
     "metadata": {},
     "output_type": "execute_result"
    }
   ],
   "source": [
    "X = np.array([[1, 2], [3, 4], [1, 2], [3, 4], [1, 2], [3, 4], [1, 2], [3, 4], [1, 2], [3, 4], [1, 2], [3, 4]])\n",
    "y = np.array([1, 2, 3, 4, 5, 6, 7, 8, 9, 10, 11, 12])\n",
    "X"
   ],
   "metadata": {
    "collapsed": false,
    "ExecuteTime": {
     "end_time": "2025-06-09T12:08:35.192169Z",
     "start_time": "2025-06-09T12:08:35.188387Z"
    }
   },
   "id": "d937afa56bee93cf",
   "execution_count": 4
  },
  {
   "cell_type": "code",
   "outputs": [
    {
     "name": "stdout",
     "output_type": "stream",
     "text": [
      "TimeSeriesSplit(gap=1, max_train_size=None, n_splits=5, test_size=None)\n",
      "Fold 0:\n",
      "  Train: index=[0]\n",
      "  Test:  index=[2 3]\n",
      "Fold 1:\n",
      "  Train: index=[0 1 2]\n",
      "  Test:  index=[4 5]\n",
      "Fold 2:\n",
      "  Train: index=[0 1 2 3 4]\n",
      "  Test:  index=[6 7]\n",
      "Fold 3:\n",
      "  Train: index=[0 1 2 3 4 5 6]\n",
      "  Test:  index=[8 9]\n",
      "Fold 4:\n",
      "  Train: index=[0 1 2 3 4 5 6 7 8]\n",
      "  Test:  index=[10 11]\n"
     ]
    }
   ],
   "source": [
    "tscv = TimeSeriesSplit(gap=1)\n",
    "print(tscv)\n",
    "for i, (train_index, test_index) in enumerate(tscv.split(X)):\n",
    "    print(f\"Fold {i}:\")\n",
    "    print(f\"  Train: index={train_index}\")\n",
    "    print(f\"  Test:  index={test_index}\")\n"
   ],
   "metadata": {
    "collapsed": true,
    "ExecuteTime": {
     "end_time": "2025-06-09T12:08:37.125546Z",
     "start_time": "2025-06-09T12:08:37.122011Z"
    }
   },
   "id": "initial_id",
   "execution_count": 5
  }
 ],
 "metadata": {
  "kernelspec": {
   "display_name": "Python 3",
   "language": "python",
   "name": "python3"
  },
  "language_info": {
   "codemirror_mode": {
    "name": "ipython",
    "version": 2
   },
   "file_extension": ".py",
   "mimetype": "text/x-python",
   "name": "python",
   "nbconvert_exporter": "python",
   "pygments_lexer": "ipython2",
   "version": "2.7.6"
  }
 },
 "nbformat": 4,
 "nbformat_minor": 5
}
