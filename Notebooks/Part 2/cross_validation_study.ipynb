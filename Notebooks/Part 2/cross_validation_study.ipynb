{
 "cells": [
  {
   "cell_type": "code",
   "id": "c25c544331d773bf",
   "metadata": {
    "collapsed": false,
    "ExecuteTime": {
     "end_time": "2025-06-12T11:24:34.438856Z",
     "start_time": "2025-06-12T11:24:34.157126Z"
    }
   },
   "source": [
    "import numpy as np\n",
    "from sklearn.model_selection import TimeSeriesSplit"
   ],
   "outputs": [],
   "execution_count": 1
  },
  {
   "cell_type": "code",
   "source": [
    "X = np.array([[1, 2], [3, 4], [1, 2], [3, 4], [1, 2], [3, 4], [1, 2], [3, 4], [1, 2], [3, 4], [1, 2], [3, 4]])\n",
    "y = np.array([1, 2, 3, 4, 5, 6, 7, 8, 9, 10, 11, 12])\n",
    "X"
   ],
   "metadata": {
    "collapsed": false,
    "ExecuteTime": {
     "end_time": "2025-06-12T11:24:34.454427Z",
     "start_time": "2025-06-12T11:24:34.449833Z"
    }
   },
   "id": "d937afa56bee93cf",
   "outputs": [
    {
     "data": {
      "text/plain": [
       "array([[1, 2],\n",
       "       [3, 4],\n",
       "       [1, 2],\n",
       "       [3, 4],\n",
       "       [1, 2],\n",
       "       [3, 4],\n",
       "       [1, 2],\n",
       "       [3, 4],\n",
       "       [1, 2],\n",
       "       [3, 4],\n",
       "       [1, 2],\n",
       "       [3, 4]])"
      ]
     },
     "execution_count": 2,
     "metadata": {},
     "output_type": "execute_result"
    }
   ],
   "execution_count": 2
  },
  {
   "cell_type": "code",
   "source": [
    "tscv = TimeSeriesSplit(gap=1)\n",
    "print(tscv)\n",
    "for i, (train_index, test_index) in enumerate(tscv.split(X)):\n",
    "    print(f\"Fold {i}:\")\n",
    "    print(f\"  Train: index={train_index}\")\n",
    "    print(f\"  Test:  index={test_index}\")\n"
   ],
   "metadata": {
    "collapsed": true,
    "ExecuteTime": {
     "end_time": "2025-06-12T11:37:02.483016Z",
     "start_time": "2025-06-12T11:37:02.480369Z"
    }
   },
   "id": "initial_id",
   "outputs": [
    {
     "name": "stdout",
     "output_type": "stream",
     "text": [
      "TimeSeriesSplit(gap=1, max_train_size=None, n_splits=3, test_size=None)\n",
      "Fold 0:\n",
      "  Train: index=[0 1]\n",
      "  Test:  index=[3 4 5]\n",
      "Fold 1:\n",
      "  Train: index=[0 1 2 3 4]\n",
      "  Test:  index=[6 7 8]\n",
      "Fold 2:\n",
      "  Train: index=[0 1 2 3 4 5 6 7]\n",
      "  Test:  index=[ 9 10 11]\n"
     ]
    }
   ],
   "execution_count": 6
  },
  {
   "metadata": {
    "ExecuteTime": {
     "end_time": "2025-06-12T11:24:34.763691Z",
     "start_time": "2025-06-12T11:24:34.761412Z"
    }
   },
   "cell_type": "code",
   "source": "tscv.split(X)",
   "id": "4314a03252148237",
   "outputs": [
    {
     "data": {
      "text/plain": [
       "<generator object TimeSeriesSplit._split at 0x7dbe1e8def00>"
      ]
     },
     "execution_count": 4,
     "metadata": {},
     "output_type": "execute_result"
    }
   ],
   "execution_count": 4
  }
 ],
 "metadata": {
  "kernelspec": {
   "display_name": "Python 3",
   "language": "python",
   "name": "python3"
  },
  "language_info": {
   "codemirror_mode": {
    "name": "ipython",
    "version": 2
   },
   "file_extension": ".py",
   "mimetype": "text/x-python",
   "name": "python",
   "nbconvert_exporter": "python",
   "pygments_lexer": "ipython2",
   "version": "2.7.6"
  }
 },
 "nbformat": 4,
 "nbformat_minor": 5
}
