{
 "cells": [
  {
   "cell_type": "code",
   "outputs": [],
   "source": [
    "import pandas as pd  \n",
    "import matplotlib.pyplot as plt  \n",
    "import seaborn as sns \n",
    "from custom_transforms.transforms import *\n",
    "from statsmodels.tsa.stattools import adfuller\n",
    "from scripts.load_data import load_weather_df, load_price_df\n",
    "from datetime import timedelta"
   ],
   "metadata": {
    "collapsed": false,
    "ExecuteTime": {
     "end_time": "2024-05-30T21:20:12.801196877Z",
     "start_time": "2024-05-30T21:20:12.745605056Z"
    }
   },
   "id": "5b822c959f849533",
   "execution_count": 5
  },
  {
   "cell_type": "code",
   "outputs": [
    {
     "data": {
      "text/plain": "                           Alface Americana - Roça  Alface Crespa - Roça  \\\ndt                                                                         \n2017-04-30 00:00:00+00:00                 0.849167              0.513889   \n2017-05-07 00:00:00+00:00                 0.781667              0.541667   \n2017-05-14 00:00:00+00:00                 0.725000              0.467778   \n2017-05-21 00:00:00+00:00                 0.698333              0.375000   \n2017-05-28 00:00:00+00:00                 0.666667              0.322222   \n...                                            ...                   ...   \n2023-12-03 00:00:00+00:00                 1.875000              0.750000   \n2023-12-10 00:00:00+00:00                 1.458333              0.677083   \n2023-12-17 00:00:00+00:00                 1.125000              0.562500   \n2023-12-24 00:00:00+00:00                 1.125000              0.562500   \n2023-12-31 00:00:00+00:00                 1.166667              0.625000   \n\n                           Alface Lisa - Roça  Alface Americana - Atacado  \\\ndt                                                                          \n2017-04-30 00:00:00+00:00            0.550000                         NaN   \n2017-05-07 00:00:00+00:00            0.513889                         NaN   \n2017-05-14 00:00:00+00:00            0.444444                         NaN   \n2017-05-21 00:00:00+00:00            0.437778                         NaN   \n2017-05-28 00:00:00+00:00            0.322222                         NaN   \n...                                       ...                         ...   \n2023-12-03 00:00:00+00:00            0.750000                         1.0   \n2023-12-10 00:00:00+00:00            0.677083                         1.0   \n2023-12-17 00:00:00+00:00            0.562500                         1.0   \n2023-12-24 00:00:00+00:00            0.562500                         1.0   \n2023-12-31 00:00:00+00:00            0.625000                         1.0   \n\n                           Alface Crespa - Atacado  \\\ndt                                                   \n2017-04-30 00:00:00+00:00                      NaN   \n2017-05-07 00:00:00+00:00                      NaN   \n2017-05-14 00:00:00+00:00                      NaN   \n2017-05-21 00:00:00+00:00                      NaN   \n2017-05-28 00:00:00+00:00                      NaN   \n...                                            ...   \n2023-12-03 00:00:00+00:00                      0.5   \n2023-12-10 00:00:00+00:00                      0.5   \n2023-12-17 00:00:00+00:00                      0.5   \n2023-12-24 00:00:00+00:00                      0.5   \n2023-12-31 00:00:00+00:00                      0.5   \n\n                           PRECIPITAÇÃO TOTAL, HORÁRIO (mm)_mean  \\\ndt                                                                 \n2017-04-30 00:00:00+00:00                               0.391667   \n2017-05-07 00:00:00+00:00                               0.070238   \n2017-05-14 00:00:00+00:00                               0.108333   \n2017-05-21 00:00:00+00:00                               0.302381   \n2017-05-28 00:00:00+00:00                               0.153571   \n...                                                          ...   \n2023-12-03 00:00:00+00:00                               0.077381   \n2023-12-10 00:00:00+00:00                               0.697619   \n2023-12-17 00:00:00+00:00                               0.347619   \n2023-12-24 00:00:00+00:00                               0.147619   \n2023-12-31 00:00:00+00:00                               0.326897   \n\n                           PRECIPITAÇÃO TOTAL, HORÁRIO (mm)_max  \\\ndt                                                                \n2017-04-30 00:00:00+00:00                                  12.0   \n2017-05-07 00:00:00+00:00                                   8.4   \n2017-05-14 00:00:00+00:00                                   4.6   \n2017-05-21 00:00:00+00:00                                   7.2   \n2017-05-28 00:00:00+00:00                                   7.4   \n...                                                         ...   \n2023-12-03 00:00:00+00:00                                   5.2   \n2023-12-10 00:00:00+00:00                                  28.2   \n2023-12-17 00:00:00+00:00                                  28.2   \n2023-12-24 00:00:00+00:00                                   7.4   \n2023-12-31 00:00:00+00:00                                  10.2   \n\n                           PRECIPITAÇÃO TOTAL, HORÁRIO (mm)_sum  \\\ndt                                                                \n2017-04-30 00:00:00+00:00                                  65.8   \n2017-05-07 00:00:00+00:00                                  11.8   \n2017-05-14 00:00:00+00:00                                  18.2   \n2017-05-21 00:00:00+00:00                                  50.8   \n2017-05-28 00:00:00+00:00                                  25.8   \n...                                                         ...   \n2023-12-03 00:00:00+00:00                                  13.0   \n2023-12-10 00:00:00+00:00                                 117.2   \n2023-12-17 00:00:00+00:00                                  58.4   \n2023-12-24 00:00:00+00:00                                  24.8   \n2023-12-31 00:00:00+00:00                                  47.4   \n\n                           PRECIPITAÇÃO TOTAL, HORÁRIO (mm)_min  \\\ndt                                                                \n2017-04-30 00:00:00+00:00                                   0.0   \n2017-05-07 00:00:00+00:00                                   0.0   \n2017-05-14 00:00:00+00:00                                   0.0   \n2017-05-21 00:00:00+00:00                                   0.0   \n2017-05-28 00:00:00+00:00                                   0.0   \n...                                                         ...   \n2023-12-03 00:00:00+00:00                                   0.0   \n2023-12-10 00:00:00+00:00                                   0.0   \n2023-12-17 00:00:00+00:00                                   0.0   \n2023-12-24 00:00:00+00:00                                   0.0   \n2023-12-31 00:00:00+00:00                                   0.0   \n\n                           PRECIPITAÇÃO TOTAL, HORÁRIO (mm)_std  ...  \\\ndt                                                               ...   \n2017-04-30 00:00:00+00:00                              1.130387  ...   \n2017-05-07 00:00:00+00:00                              0.666078  ...   \n2017-05-14 00:00:00+00:00                              0.495176  ...   \n2017-05-21 00:00:00+00:00                              1.065291  ...   \n2017-05-28 00:00:00+00:00                              0.829970  ...   \n...                                                         ...  ...   \n2023-12-03 00:00:00+00:00                              0.490730  ...   \n2023-12-10 00:00:00+00:00                              2.583595  ...   \n2023-12-17 00:00:00+00:00                              2.252901  ...   \n2023-12-24 00:00:00+00:00                              0.779448  ...   \n2023-12-31 00:00:00+00:00                              1.071814  ...   \n\n                           VENTO, RAJADA MAXIMA (m/s)_median  \\\ndt                                                             \n2017-04-30 00:00:00+00:00                               3.00   \n2017-05-07 00:00:00+00:00                               0.00   \n2017-05-14 00:00:00+00:00                               2.35   \n2017-05-21 00:00:00+00:00                               3.05   \n2017-05-28 00:00:00+00:00                               3.70   \n...                                                      ...   \n2023-12-03 00:00:00+00:00                               3.80   \n2023-12-10 00:00:00+00:00                               3.10   \n2023-12-17 00:00:00+00:00                               3.40   \n2023-12-24 00:00:00+00:00                               3.45   \n2023-12-31 00:00:00+00:00                               3.80   \n\n                           VENTO, RAJADA MAXIMA (m/s)_ma4  \\\ndt                                                          \n2017-04-30 00:00:00+00:00                           1.275   \n2017-05-07 00:00:00+00:00                           0.000   \n2017-05-14 00:00:00+00:00                           1.650   \n2017-05-21 00:00:00+00:00                           2.425   \n2017-05-28 00:00:00+00:00                           0.000   \n...                                                   ...   \n2023-12-03 00:00:00+00:00                           2.225   \n2023-12-10 00:00:00+00:00                           4.075   \n2023-12-17 00:00:00+00:00                           2.325   \n2023-12-24 00:00:00+00:00                           2.225   \n2023-12-31 00:00:00+00:00                           4.175   \n\n                           VENTO, VELOCIDADE HORARIA (m/s)_mean  \\\ndt                                                                \n2017-04-30 00:00:00+00:00                              0.600595   \n2017-05-07 00:00:00+00:00                              0.141071   \n2017-05-14 00:00:00+00:00                              0.341071   \n2017-05-21 00:00:00+00:00                              0.552976   \n2017-05-28 00:00:00+00:00                              0.721429   \n...                                                         ...   \n2023-12-03 00:00:00+00:00                              1.291071   \n2023-12-10 00:00:00+00:00                              0.982738   \n2023-12-17 00:00:00+00:00                              1.075595   \n2023-12-24 00:00:00+00:00                              1.019643   \n2023-12-31 00:00:00+00:00                              1.167586   \n\n                           VENTO, VELOCIDADE HORARIA (m/s)_max  \\\ndt                                                               \n2017-04-30 00:00:00+00:00                                  3.6   \n2017-05-07 00:00:00+00:00                                  2.5   \n2017-05-14 00:00:00+00:00                                  3.0   \n2017-05-21 00:00:00+00:00                                  3.4   \n2017-05-28 00:00:00+00:00                                  3.1   \n...                                                        ...   \n2023-12-03 00:00:00+00:00                                  4.3   \n2023-12-10 00:00:00+00:00                                  2.0   \n2023-12-17 00:00:00+00:00                                  2.7   \n2023-12-24 00:00:00+00:00                                  2.1   \n2023-12-31 00:00:00+00:00                                  2.7   \n\n                           VENTO, VELOCIDADE HORARIA (m/s)_sum  \\\ndt                                                               \n2017-04-30 00:00:00+00:00                                100.9   \n2017-05-07 00:00:00+00:00                                 23.7   \n2017-05-14 00:00:00+00:00                                 57.3   \n2017-05-21 00:00:00+00:00                                 92.9   \n2017-05-28 00:00:00+00:00                                121.2   \n...                                                        ...   \n2023-12-03 00:00:00+00:00                                216.9   \n2023-12-10 00:00:00+00:00                                165.1   \n2023-12-17 00:00:00+00:00                                180.7   \n2023-12-24 00:00:00+00:00                                171.3   \n2023-12-31 00:00:00+00:00                                169.3   \n\n                           VENTO, VELOCIDADE HORARIA (m/s)_min  \\\ndt                                                               \n2017-04-30 00:00:00+00:00                                  0.0   \n2017-05-07 00:00:00+00:00                                  0.0   \n2017-05-14 00:00:00+00:00                                  0.0   \n2017-05-21 00:00:00+00:00                                  0.0   \n2017-05-28 00:00:00+00:00                                  0.0   \n...                                                        ...   \n2023-12-03 00:00:00+00:00                                  0.1   \n2023-12-10 00:00:00+00:00                                  0.2   \n2023-12-17 00:00:00+00:00                                  0.2   \n2023-12-24 00:00:00+00:00                                  0.3   \n2023-12-31 00:00:00+00:00                                  0.3   \n\n                           VENTO, VELOCIDADE HORARIA (m/s)_std  \\\ndt                                                               \n2017-04-30 00:00:00+00:00                             0.816337   \n2017-05-07 00:00:00+00:00                             0.380880   \n2017-05-14 00:00:00+00:00                             0.698701   \n2017-05-21 00:00:00+00:00                             0.819517   \n2017-05-28 00:00:00+00:00                             0.872270   \n...                                                        ...   \n2023-12-03 00:00:00+00:00                             0.784476   \n2023-12-10 00:00:00+00:00                             0.439787   \n2023-12-17 00:00:00+00:00                             0.531465   \n2023-12-24 00:00:00+00:00                             0.492003   \n2023-12-31 00:00:00+00:00                             0.497896   \n\n                           VENTO, VELOCIDADE HORARIA (m/s)_var  \\\ndt                                                               \n2017-04-30 00:00:00+00:00                             0.666407   \n2017-05-07 00:00:00+00:00                             0.145070   \n2017-05-14 00:00:00+00:00                             0.488183   \n2017-05-21 00:00:00+00:00                             0.671608   \n2017-05-28 00:00:00+00:00                             0.760855   \n...                                                        ...   \n2023-12-03 00:00:00+00:00                             0.615402   \n2023-12-10 00:00:00+00:00                             0.193413   \n2023-12-17 00:00:00+00:00                             0.282455   \n2023-12-24 00:00:00+00:00                             0.242067   \n2023-12-31 00:00:00+00:00                             0.247900   \n\n                           VENTO, VELOCIDADE HORARIA (m/s)_median  \\\ndt                                                                  \n2017-04-30 00:00:00+00:00                                     0.1   \n2017-05-07 00:00:00+00:00                                     0.0   \n2017-05-14 00:00:00+00:00                                     0.0   \n2017-05-21 00:00:00+00:00                                     0.0   \n2017-05-28 00:00:00+00:00                                     0.2   \n...                                                           ...   \n2023-12-03 00:00:00+00:00                                     1.2   \n2023-12-10 00:00:00+00:00                                     0.9   \n2023-12-17 00:00:00+00:00                                     1.0   \n2023-12-24 00:00:00+00:00                                     0.9   \n2023-12-31 00:00:00+00:00                                     1.1   \n\n                           VENTO, VELOCIDADE HORARIA (m/s)_ma4  \ndt                                                              \n2017-04-30 00:00:00+00:00                                0.075  \n2017-05-07 00:00:00+00:00                                0.000  \n2017-05-14 00:00:00+00:00                                0.175  \n2017-05-21 00:00:00+00:00                                0.175  \n2017-05-28 00:00:00+00:00                                0.000  \n...                                                        ...  \n2023-12-03 00:00:00+00:00                                0.600  \n2023-12-10 00:00:00+00:00                                0.950  \n2023-12-17 00:00:00+00:00                                0.775  \n2023-12-24 00:00:00+00:00                                0.700  \n2023-12-31 00:00:00+00:00                                1.050  \n\n[349 rows x 141 columns]",
      "text/html": "<div>\n<style scoped>\n    .dataframe tbody tr th:only-of-type {\n        vertical-align: middle;\n    }\n\n    .dataframe tbody tr th {\n        vertical-align: top;\n    }\n\n    .dataframe thead th {\n        text-align: right;\n    }\n</style>\n<table border=\"1\" class=\"dataframe\">\n  <thead>\n    <tr style=\"text-align: right;\">\n      <th></th>\n      <th>Alface Americana - Roça</th>\n      <th>Alface Crespa - Roça</th>\n      <th>Alface Lisa - Roça</th>\n      <th>Alface Americana - Atacado</th>\n      <th>Alface Crespa - Atacado</th>\n      <th>PRECIPITAÇÃO TOTAL, HORÁRIO (mm)_mean</th>\n      <th>PRECIPITAÇÃO TOTAL, HORÁRIO (mm)_max</th>\n      <th>PRECIPITAÇÃO TOTAL, HORÁRIO (mm)_sum</th>\n      <th>PRECIPITAÇÃO TOTAL, HORÁRIO (mm)_min</th>\n      <th>PRECIPITAÇÃO TOTAL, HORÁRIO (mm)_std</th>\n      <th>...</th>\n      <th>VENTO, RAJADA MAXIMA (m/s)_median</th>\n      <th>VENTO, RAJADA MAXIMA (m/s)_ma4</th>\n      <th>VENTO, VELOCIDADE HORARIA (m/s)_mean</th>\n      <th>VENTO, VELOCIDADE HORARIA (m/s)_max</th>\n      <th>VENTO, VELOCIDADE HORARIA (m/s)_sum</th>\n      <th>VENTO, VELOCIDADE HORARIA (m/s)_min</th>\n      <th>VENTO, VELOCIDADE HORARIA (m/s)_std</th>\n      <th>VENTO, VELOCIDADE HORARIA (m/s)_var</th>\n      <th>VENTO, VELOCIDADE HORARIA (m/s)_median</th>\n      <th>VENTO, VELOCIDADE HORARIA (m/s)_ma4</th>\n    </tr>\n    <tr>\n      <th>dt</th>\n      <th></th>\n      <th></th>\n      <th></th>\n      <th></th>\n      <th></th>\n      <th></th>\n      <th></th>\n      <th></th>\n      <th></th>\n      <th></th>\n      <th></th>\n      <th></th>\n      <th></th>\n      <th></th>\n      <th></th>\n      <th></th>\n      <th></th>\n      <th></th>\n      <th></th>\n      <th></th>\n      <th></th>\n    </tr>\n  </thead>\n  <tbody>\n    <tr>\n      <th>2017-04-30 00:00:00+00:00</th>\n      <td>0.849167</td>\n      <td>0.513889</td>\n      <td>0.550000</td>\n      <td>NaN</td>\n      <td>NaN</td>\n      <td>0.391667</td>\n      <td>12.0</td>\n      <td>65.8</td>\n      <td>0.0</td>\n      <td>1.130387</td>\n      <td>...</td>\n      <td>3.00</td>\n      <td>1.275</td>\n      <td>0.600595</td>\n      <td>3.6</td>\n      <td>100.9</td>\n      <td>0.0</td>\n      <td>0.816337</td>\n      <td>0.666407</td>\n      <td>0.1</td>\n      <td>0.075</td>\n    </tr>\n    <tr>\n      <th>2017-05-07 00:00:00+00:00</th>\n      <td>0.781667</td>\n      <td>0.541667</td>\n      <td>0.513889</td>\n      <td>NaN</td>\n      <td>NaN</td>\n      <td>0.070238</td>\n      <td>8.4</td>\n      <td>11.8</td>\n      <td>0.0</td>\n      <td>0.666078</td>\n      <td>...</td>\n      <td>0.00</td>\n      <td>0.000</td>\n      <td>0.141071</td>\n      <td>2.5</td>\n      <td>23.7</td>\n      <td>0.0</td>\n      <td>0.380880</td>\n      <td>0.145070</td>\n      <td>0.0</td>\n      <td>0.000</td>\n    </tr>\n    <tr>\n      <th>2017-05-14 00:00:00+00:00</th>\n      <td>0.725000</td>\n      <td>0.467778</td>\n      <td>0.444444</td>\n      <td>NaN</td>\n      <td>NaN</td>\n      <td>0.108333</td>\n      <td>4.6</td>\n      <td>18.2</td>\n      <td>0.0</td>\n      <td>0.495176</td>\n      <td>...</td>\n      <td>2.35</td>\n      <td>1.650</td>\n      <td>0.341071</td>\n      <td>3.0</td>\n      <td>57.3</td>\n      <td>0.0</td>\n      <td>0.698701</td>\n      <td>0.488183</td>\n      <td>0.0</td>\n      <td>0.175</td>\n    </tr>\n    <tr>\n      <th>2017-05-21 00:00:00+00:00</th>\n      <td>0.698333</td>\n      <td>0.375000</td>\n      <td>0.437778</td>\n      <td>NaN</td>\n      <td>NaN</td>\n      <td>0.302381</td>\n      <td>7.2</td>\n      <td>50.8</td>\n      <td>0.0</td>\n      <td>1.065291</td>\n      <td>...</td>\n      <td>3.05</td>\n      <td>2.425</td>\n      <td>0.552976</td>\n      <td>3.4</td>\n      <td>92.9</td>\n      <td>0.0</td>\n      <td>0.819517</td>\n      <td>0.671608</td>\n      <td>0.0</td>\n      <td>0.175</td>\n    </tr>\n    <tr>\n      <th>2017-05-28 00:00:00+00:00</th>\n      <td>0.666667</td>\n      <td>0.322222</td>\n      <td>0.322222</td>\n      <td>NaN</td>\n      <td>NaN</td>\n      <td>0.153571</td>\n      <td>7.4</td>\n      <td>25.8</td>\n      <td>0.0</td>\n      <td>0.829970</td>\n      <td>...</td>\n      <td>3.70</td>\n      <td>0.000</td>\n      <td>0.721429</td>\n      <td>3.1</td>\n      <td>121.2</td>\n      <td>0.0</td>\n      <td>0.872270</td>\n      <td>0.760855</td>\n      <td>0.2</td>\n      <td>0.000</td>\n    </tr>\n    <tr>\n      <th>...</th>\n      <td>...</td>\n      <td>...</td>\n      <td>...</td>\n      <td>...</td>\n      <td>...</td>\n      <td>...</td>\n      <td>...</td>\n      <td>...</td>\n      <td>...</td>\n      <td>...</td>\n      <td>...</td>\n      <td>...</td>\n      <td>...</td>\n      <td>...</td>\n      <td>...</td>\n      <td>...</td>\n      <td>...</td>\n      <td>...</td>\n      <td>...</td>\n      <td>...</td>\n      <td>...</td>\n    </tr>\n    <tr>\n      <th>2023-12-03 00:00:00+00:00</th>\n      <td>1.875000</td>\n      <td>0.750000</td>\n      <td>0.750000</td>\n      <td>1.0</td>\n      <td>0.5</td>\n      <td>0.077381</td>\n      <td>5.2</td>\n      <td>13.0</td>\n      <td>0.0</td>\n      <td>0.490730</td>\n      <td>...</td>\n      <td>3.80</td>\n      <td>2.225</td>\n      <td>1.291071</td>\n      <td>4.3</td>\n      <td>216.9</td>\n      <td>0.1</td>\n      <td>0.784476</td>\n      <td>0.615402</td>\n      <td>1.2</td>\n      <td>0.600</td>\n    </tr>\n    <tr>\n      <th>2023-12-10 00:00:00+00:00</th>\n      <td>1.458333</td>\n      <td>0.677083</td>\n      <td>0.677083</td>\n      <td>1.0</td>\n      <td>0.5</td>\n      <td>0.697619</td>\n      <td>28.2</td>\n      <td>117.2</td>\n      <td>0.0</td>\n      <td>2.583595</td>\n      <td>...</td>\n      <td>3.10</td>\n      <td>4.075</td>\n      <td>0.982738</td>\n      <td>2.0</td>\n      <td>165.1</td>\n      <td>0.2</td>\n      <td>0.439787</td>\n      <td>0.193413</td>\n      <td>0.9</td>\n      <td>0.950</td>\n    </tr>\n    <tr>\n      <th>2023-12-17 00:00:00+00:00</th>\n      <td>1.125000</td>\n      <td>0.562500</td>\n      <td>0.562500</td>\n      <td>1.0</td>\n      <td>0.5</td>\n      <td>0.347619</td>\n      <td>28.2</td>\n      <td>58.4</td>\n      <td>0.0</td>\n      <td>2.252901</td>\n      <td>...</td>\n      <td>3.40</td>\n      <td>2.325</td>\n      <td>1.075595</td>\n      <td>2.7</td>\n      <td>180.7</td>\n      <td>0.2</td>\n      <td>0.531465</td>\n      <td>0.282455</td>\n      <td>1.0</td>\n      <td>0.775</td>\n    </tr>\n    <tr>\n      <th>2023-12-24 00:00:00+00:00</th>\n      <td>1.125000</td>\n      <td>0.562500</td>\n      <td>0.562500</td>\n      <td>1.0</td>\n      <td>0.5</td>\n      <td>0.147619</td>\n      <td>7.4</td>\n      <td>24.8</td>\n      <td>0.0</td>\n      <td>0.779448</td>\n      <td>...</td>\n      <td>3.45</td>\n      <td>2.225</td>\n      <td>1.019643</td>\n      <td>2.1</td>\n      <td>171.3</td>\n      <td>0.3</td>\n      <td>0.492003</td>\n      <td>0.242067</td>\n      <td>0.9</td>\n      <td>0.700</td>\n    </tr>\n    <tr>\n      <th>2023-12-31 00:00:00+00:00</th>\n      <td>1.166667</td>\n      <td>0.625000</td>\n      <td>0.625000</td>\n      <td>1.0</td>\n      <td>0.5</td>\n      <td>0.326897</td>\n      <td>10.2</td>\n      <td>47.4</td>\n      <td>0.0</td>\n      <td>1.071814</td>\n      <td>...</td>\n      <td>3.80</td>\n      <td>4.175</td>\n      <td>1.167586</td>\n      <td>2.7</td>\n      <td>169.3</td>\n      <td>0.3</td>\n      <td>0.497896</td>\n      <td>0.247900</td>\n      <td>1.1</td>\n      <td>1.050</td>\n    </tr>\n  </tbody>\n</table>\n<p>349 rows × 141 columns</p>\n</div>"
     },
     "execution_count": 6,
     "metadata": {},
     "output_type": "execute_result"
    }
   ],
   "source": [
    "#Load and merge data\n",
    "\n",
    "price_weather_weekly_df = pd.read_csv('../processed_data/price_weather_weekly_df.V2.csv', index_col=0, parse_dates=True)\n",
    "price_weather_weekly_df.index = pd.to_datetime(price_weather_weekly_df.index)\n",
    "price_weather_weekly_df"
   ],
   "metadata": {
    "collapsed": false,
    "ExecuteTime": {
     "end_time": "2024-05-30T21:20:12.849397843Z",
     "start_time": "2024-05-30T21:20:12.794713186Z"
    }
   },
   "id": "f57c40fb91d596d6",
   "execution_count": 6
  },
  {
   "cell_type": "code",
   "outputs": [],
   "source": [
    "def safe_filename(filename):\n",
    "    keepcharacters = (' ', '.', '_')\n",
    "    return \"\".join(c for c in filename if c.isalnum() or c in keepcharacters).rstrip()\n"
   ],
   "metadata": {
    "collapsed": false,
    "ExecuteTime": {
     "end_time": "2024-05-30T21:20:12.860992654Z",
     "start_time": "2024-05-30T21:20:12.852436714Z"
    }
   },
   "id": "8e51f50073ea0a35",
   "execution_count": 7
  },
  {
   "cell_type": "code",
   "outputs": [
    {
     "data": {
      "text/plain": "<Figure size 640x480 with 0 Axes>"
     },
     "metadata": {},
     "output_type": "display_data"
    }
   ],
   "source": [
    "interest_cols = ['Alface Crespa - Roça']\n",
    "shift_cols = price_weather_weekly_df.columns.tolist()\n",
    "#shift_cols = ['RADIACAO GLOBAL (Kj/m²)_max']\n",
    "\n",
    "with open('2024-05-12-individual-correlation/correlation.csv', 'w') as f:\n",
    "    f.write('column,correlated_to,max_correlation\\n')\n",
    "\n",
    "for col in shift_cols:\n",
    "    temp_df = pd.DataFrame()\n",
    "    temp_df.index = price_weather_weekly_df.index\n",
    "   \n",
    "    for i_col in interest_cols:\n",
    "        temp_df[i_col] = price_weather_weekly_df[i_col]\n",
    "    \n",
    "    temp_df[0] = price_weather_weekly_df[col]\n",
    "    for i in range(1, 110):\n",
    "        temp_df[i] = temp_df[0].shift(i)\n",
    "        temp_df = temp_df.copy()\n",
    "    \n",
    "    corr = temp_df.corr(method=\"spearman\")\n",
    "    corr = corr.iloc[1:]\n",
    "    corr = corr[interest_cols]\n",
    "    corr = corr[interest_cols].apply(lambda x: x.abs())\n",
    "    max_corr = corr[interest_cols].max().values[0]\n",
    "    corr.index.names = [f'Shifted: {col}']\n",
    "    corr.columns = [f'Corr. with {c}' for c in interest_cols]\n",
    "    \n",
    "\n",
    "    plt.tight_layout()\n",
    "    \n",
    "    corr.plot(figsize=(10, 3), ylim=(0, 1), title=f'Correlation between {col} and {interest_cols[0]}', grid=True)\n",
    "    \n",
    "    vertical_lines_1 = [i for i in range(0, 110, 26)]\n",
    "    for v in vertical_lines_1:\n",
    "        plt.axvline(x = v, color = 'r', label = 'axvline - full height')\n",
    "        plt.axvline(x = v+7, color = 'b', label = 'axvline - full height')\n",
    "        plt.axvline(x = v+10, color = 'g', label = 'axvline - full height')\n",
    "        \n",
    "    with open('2024-05-12-individual-correlation/correlation.csv', 'a') as f:\n",
    "        f.write(f'\\\"{col}\\\",\\\"{interest_cols[0]}\\\",{max_corr}\\n')\n",
    "    \n",
    "    plt.savefig(f'2024-05-12-individual-correlation/{safe_filename(col)}.png', bbox_inches='tight')\n",
    "    plt.close()\n",
    "\n"
   ],
   "metadata": {
    "collapsed": false,
    "ExecuteTime": {
     "end_time": "2024-05-30T21:24:08.702569549Z",
     "start_time": "2024-05-30T21:20:12.876831941Z"
    }
   },
   "id": "ea059e29fa45a52f",
   "execution_count": 8
  }
 ],
 "metadata": {
  "kernelspec": {
   "display_name": "Python 3",
   "language": "python",
   "name": "python3"
  },
  "language_info": {
   "codemirror_mode": {
    "name": "ipython",
    "version": 2
   },
   "file_extension": ".py",
   "mimetype": "text/x-python",
   "name": "python",
   "nbconvert_exporter": "python",
   "pygments_lexer": "ipython2",
   "version": "2.7.6"
  }
 },
 "nbformat": 4,
 "nbformat_minor": 5
}
