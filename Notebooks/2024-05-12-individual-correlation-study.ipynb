{
 "cells": [
  {
   "cell_type": "code",
   "outputs": [],
   "source": [
    "import pandas as pd  \n",
    "import matplotlib.pyplot as plt  \n",
    "import seaborn as sns \n",
    "from custom_transforms.transforms import *\n",
    "from statsmodels.tsa.stattools import adfuller\n",
    "from scripts.load_data import load_weather_df, load_price_df\n",
    "from datetime import timedelta"
   ],
   "metadata": {
    "collapsed": false,
    "ExecuteTime": {
     "end_time": "2024-05-26T20:26:01.401748311Z",
     "start_time": "2024-05-26T20:26:01.356152156Z"
    }
   },
   "id": "5b822c959f849533",
   "execution_count": 84
  },
  {
   "cell_type": "code",
   "outputs": [
    {
     "data": {
      "text/plain": "                           Alface Americana - Roça  Alface Crespa - Roça  \\\ndt                                                                         \n2017-04-30 00:00:00+00:00                 0.849167              0.513889   \n2017-05-07 00:00:00+00:00                 0.781667              0.541667   \n2017-05-14 00:00:00+00:00                 0.725000              0.467778   \n2017-05-21 00:00:00+00:00                 0.698333              0.375000   \n2017-05-28 00:00:00+00:00                 0.666667              0.322222   \n...                                            ...                   ...   \n2023-12-03 00:00:00+00:00                 1.875000              0.750000   \n2023-12-10 00:00:00+00:00                 1.458333              0.677083   \n2023-12-17 00:00:00+00:00                 1.125000              0.562500   \n2023-12-24 00:00:00+00:00                 1.125000              0.562500   \n2023-12-31 00:00:00+00:00                 1.166667              0.625000   \n\n                           Alface Lisa - Roça  Alface Americana - Atacado  \\\ndt                                                                          \n2017-04-30 00:00:00+00:00            0.550000                         NaN   \n2017-05-07 00:00:00+00:00            0.513889                         NaN   \n2017-05-14 00:00:00+00:00            0.444444                         NaN   \n2017-05-21 00:00:00+00:00            0.437778                         NaN   \n2017-05-28 00:00:00+00:00            0.322222                         NaN   \n...                                       ...                         ...   \n2023-12-03 00:00:00+00:00            0.750000                         1.0   \n2023-12-10 00:00:00+00:00            0.677083                         1.0   \n2023-12-17 00:00:00+00:00            0.562500                         1.0   \n2023-12-24 00:00:00+00:00            0.562500                         1.0   \n2023-12-31 00:00:00+00:00            0.625000                         1.0   \n\n                           Alface Crespa - Atacado  \\\ndt                                                   \n2017-04-30 00:00:00+00:00                      NaN   \n2017-05-07 00:00:00+00:00                      NaN   \n2017-05-14 00:00:00+00:00                      NaN   \n2017-05-21 00:00:00+00:00                      NaN   \n2017-05-28 00:00:00+00:00                      NaN   \n...                                            ...   \n2023-12-03 00:00:00+00:00                      0.5   \n2023-12-10 00:00:00+00:00                      0.5   \n2023-12-17 00:00:00+00:00                      0.5   \n2023-12-24 00:00:00+00:00                      0.5   \n2023-12-31 00:00:00+00:00                      0.5   \n\n                           PRECIPITAÇÃO TOTAL, HORÁRIO (mm)_mean  \\\ndt                                                                 \n2017-04-30 00:00:00+00:00                               0.391667   \n2017-05-07 00:00:00+00:00                               0.070238   \n2017-05-14 00:00:00+00:00                               0.108333   \n2017-05-21 00:00:00+00:00                               0.302381   \n2017-05-28 00:00:00+00:00                               0.153571   \n...                                                          ...   \n2023-12-03 00:00:00+00:00                               0.077381   \n2023-12-10 00:00:00+00:00                               0.697619   \n2023-12-17 00:00:00+00:00                               0.347619   \n2023-12-24 00:00:00+00:00                               0.147619   \n2023-12-31 00:00:00+00:00                               0.326897   \n\n                           PRECIPITAÇÃO TOTAL, HORÁRIO (mm)_max  \\\ndt                                                                \n2017-04-30 00:00:00+00:00                                  12.0   \n2017-05-07 00:00:00+00:00                                   8.4   \n2017-05-14 00:00:00+00:00                                   4.6   \n2017-05-21 00:00:00+00:00                                   7.2   \n2017-05-28 00:00:00+00:00                                   7.4   \n...                                                         ...   \n2023-12-03 00:00:00+00:00                                   5.2   \n2023-12-10 00:00:00+00:00                                  28.2   \n2023-12-17 00:00:00+00:00                                  28.2   \n2023-12-24 00:00:00+00:00                                   7.4   \n2023-12-31 00:00:00+00:00                                  10.2   \n\n                           PRECIPITAÇÃO TOTAL, HORÁRIO (mm)_sum  \\\ndt                                                                \n2017-04-30 00:00:00+00:00                                  65.8   \n2017-05-07 00:00:00+00:00                                  11.8   \n2017-05-14 00:00:00+00:00                                  18.2   \n2017-05-21 00:00:00+00:00                                  50.8   \n2017-05-28 00:00:00+00:00                                  25.8   \n...                                                         ...   \n2023-12-03 00:00:00+00:00                                  13.0   \n2023-12-10 00:00:00+00:00                                 117.2   \n2023-12-17 00:00:00+00:00                                  58.4   \n2023-12-24 00:00:00+00:00                                  24.8   \n2023-12-31 00:00:00+00:00                                  47.4   \n\n                           PRESSAO ATMOSFERICA AO NIVEL DA ESTACAO, HORARIA (mB)_mean  \\\ndt                                                                                      \n2017-04-30 00:00:00+00:00                                         909.321429            \n2017-05-07 00:00:00+00:00                                         909.821429            \n2017-05-14 00:00:00+00:00                                         907.244048            \n2017-05-21 00:00:00+00:00                                         907.041071            \n2017-05-28 00:00:00+00:00                                         910.460714            \n...                                                                      ...            \n2023-12-03 00:00:00+00:00                                         905.600595            \n2023-12-10 00:00:00+00:00                                         906.600000            \n2023-12-17 00:00:00+00:00                                         906.604464            \n2023-12-24 00:00:00+00:00                                         904.365476            \n2023-12-31 00:00:00+00:00                                         905.892414            \n\n                           PRESSAO ATMOSFERICA AO NIVEL DA ESTACAO, HORARIA (mB)_max  \\\ndt                                                                                     \n2017-04-30 00:00:00+00:00                                              914.3           \n2017-05-07 00:00:00+00:00                                              914.1           \n2017-05-14 00:00:00+00:00                                              911.5           \n2017-05-21 00:00:00+00:00                                              910.4           \n2017-05-28 00:00:00+00:00                                              912.7           \n...                                                                      ...           \n2023-12-03 00:00:00+00:00                                              910.5           \n2023-12-10 00:00:00+00:00                                              910.2           \n2023-12-17 00:00:00+00:00                                              910.0           \n2023-12-24 00:00:00+00:00                                              907.4           \n2023-12-31 00:00:00+00:00                                              909.4           \n\n                           ...  Alface Crespa - Roça_-8  \\\ndt                         ...                            \n2017-04-30 00:00:00+00:00  ...                 0.534306   \n2017-05-07 00:00:00+00:00  ...                 0.489861   \n2017-05-14 00:00:00+00:00  ...                 0.447639   \n2017-05-21 00:00:00+00:00  ...                 0.402778   \n2017-05-28 00:00:00+00:00  ...                 0.408750   \n...                        ...                      ...   \n2023-12-03 00:00:00+00:00  ...                      NaN   \n2023-12-10 00:00:00+00:00  ...                      NaN   \n2023-12-17 00:00:00+00:00  ...                      NaN   \n2023-12-24 00:00:00+00:00  ...                      NaN   \n2023-12-31 00:00:00+00:00  ...                      NaN   \n\n                           Alface Crespa - Roça_-9  Alface Crespa - Roça_-10  \\\ndt                                                                             \n2017-04-30 00:00:00+00:00                 0.489861                  0.447639   \n2017-05-07 00:00:00+00:00                 0.447639                  0.402778   \n2017-05-14 00:00:00+00:00                 0.402778                  0.408750   \n2017-05-21 00:00:00+00:00                 0.408750                  0.417500   \n2017-05-28 00:00:00+00:00                 0.417500                  0.411944   \n...                                            ...                       ...   \n2023-12-03 00:00:00+00:00                      NaN                       NaN   \n2023-12-10 00:00:00+00:00                      NaN                       NaN   \n2023-12-17 00:00:00+00:00                      NaN                       NaN   \n2023-12-24 00:00:00+00:00                      NaN                       NaN   \n2023-12-31 00:00:00+00:00                      NaN                       NaN   \n\n                           Alface Crespa - Roça_-11  Alface Crespa - Roça_-12  \\\ndt                                                                              \n2017-04-30 00:00:00+00:00                  0.402778                  0.408750   \n2017-05-07 00:00:00+00:00                  0.408750                  0.417500   \n2017-05-14 00:00:00+00:00                  0.417500                  0.411944   \n2017-05-21 00:00:00+00:00                  0.411944                  0.389722   \n2017-05-28 00:00:00+00:00                  0.389722                  0.360556   \n...                                             ...                       ...   \n2023-12-03 00:00:00+00:00                       NaN                       NaN   \n2023-12-10 00:00:00+00:00                       NaN                       NaN   \n2023-12-17 00:00:00+00:00                       NaN                       NaN   \n2023-12-24 00:00:00+00:00                       NaN                       NaN   \n2023-12-31 00:00:00+00:00                       NaN                       NaN   \n\n                           Alface Crespa - Roça_+49  Alface Crespa - Roça_+50  \\\ndt                                                                              \n2017-04-30 00:00:00+00:00                  0.444444                  0.430556   \n2017-05-07 00:00:00+00:00                  0.453889                  0.444444   \n2017-05-14 00:00:00+00:00                  0.354444                  0.453889   \n2017-05-21 00:00:00+00:00                  0.315000                  0.354444   \n2017-05-28 00:00:00+00:00                  0.777778                  0.315000   \n...                                             ...                       ...   \n2023-12-03 00:00:00+00:00                  0.520833                  0.507083   \n2023-12-10 00:00:00+00:00                  0.534583                  0.520833   \n2023-12-17 00:00:00+00:00                  0.520833                  0.534583   \n2023-12-24 00:00:00+00:00                  0.729167                  0.520833   \n2023-12-31 00:00:00+00:00                  1.000000                  0.729167   \n\n                           Alface Crespa - Roça_+51  Alface Crespa - Roça_+52  \\\ndt                                                                              \n2017-04-30 00:00:00+00:00                  0.437778                  0.426111   \n2017-05-07 00:00:00+00:00                  0.430556                  0.437778   \n2017-05-14 00:00:00+00:00                  0.444444                  0.430556   \n2017-05-21 00:00:00+00:00                  0.453889                  0.444444   \n2017-05-28 00:00:00+00:00                  0.354444                  0.453889   \n...                                             ...                       ...   \n2023-12-03 00:00:00+00:00                  0.347083                  0.340417   \n2023-12-10 00:00:00+00:00                  0.507083                  0.347083   \n2023-12-17 00:00:00+00:00                  0.520833                  0.507083   \n2023-12-24 00:00:00+00:00                  0.534583                  0.520833   \n2023-12-31 00:00:00+00:00                  0.520833                  0.534583   \n\n                           Alface Crespa - Roça_+53  \ndt                                                   \n2017-04-30 00:00:00+00:00                  0.616500  \n2017-05-07 00:00:00+00:00                  0.426111  \n2017-05-14 00:00:00+00:00                  0.437778  \n2017-05-21 00:00:00+00:00                  0.430556  \n2017-05-28 00:00:00+00:00                  0.444444  \n...                                             ...  \n2023-12-03 00:00:00+00:00                  0.375000  \n2023-12-10 00:00:00+00:00                  0.340417  \n2023-12-17 00:00:00+00:00                  0.347083  \n2023-12-24 00:00:00+00:00                  0.507083  \n2023-12-31 00:00:00+00:00                  0.520833  \n\n[349 rows x 73 columns]",
      "text/html": "<div>\n<style scoped>\n    .dataframe tbody tr th:only-of-type {\n        vertical-align: middle;\n    }\n\n    .dataframe tbody tr th {\n        vertical-align: top;\n    }\n\n    .dataframe thead th {\n        text-align: right;\n    }\n</style>\n<table border=\"1\" class=\"dataframe\">\n  <thead>\n    <tr style=\"text-align: right;\">\n      <th></th>\n      <th>Alface Americana - Roça</th>\n      <th>Alface Crespa - Roça</th>\n      <th>Alface Lisa - Roça</th>\n      <th>Alface Americana - Atacado</th>\n      <th>Alface Crespa - Atacado</th>\n      <th>PRECIPITAÇÃO TOTAL, HORÁRIO (mm)_mean</th>\n      <th>PRECIPITAÇÃO TOTAL, HORÁRIO (mm)_max</th>\n      <th>PRECIPITAÇÃO TOTAL, HORÁRIO (mm)_sum</th>\n      <th>PRESSAO ATMOSFERICA AO NIVEL DA ESTACAO, HORARIA (mB)_mean</th>\n      <th>PRESSAO ATMOSFERICA AO NIVEL DA ESTACAO, HORARIA (mB)_max</th>\n      <th>...</th>\n      <th>Alface Crespa - Roça_-8</th>\n      <th>Alface Crespa - Roça_-9</th>\n      <th>Alface Crespa - Roça_-10</th>\n      <th>Alface Crespa - Roça_-11</th>\n      <th>Alface Crespa - Roça_-12</th>\n      <th>Alface Crespa - Roça_+49</th>\n      <th>Alface Crespa - Roça_+50</th>\n      <th>Alface Crespa - Roça_+51</th>\n      <th>Alface Crespa - Roça_+52</th>\n      <th>Alface Crespa - Roça_+53</th>\n    </tr>\n    <tr>\n      <th>dt</th>\n      <th></th>\n      <th></th>\n      <th></th>\n      <th></th>\n      <th></th>\n      <th></th>\n      <th></th>\n      <th></th>\n      <th></th>\n      <th></th>\n      <th></th>\n      <th></th>\n      <th></th>\n      <th></th>\n      <th></th>\n      <th></th>\n      <th></th>\n      <th></th>\n      <th></th>\n      <th></th>\n      <th></th>\n    </tr>\n  </thead>\n  <tbody>\n    <tr>\n      <th>2017-04-30 00:00:00+00:00</th>\n      <td>0.849167</td>\n      <td>0.513889</td>\n      <td>0.550000</td>\n      <td>NaN</td>\n      <td>NaN</td>\n      <td>0.391667</td>\n      <td>12.0</td>\n      <td>65.8</td>\n      <td>909.321429</td>\n      <td>914.3</td>\n      <td>...</td>\n      <td>0.534306</td>\n      <td>0.489861</td>\n      <td>0.447639</td>\n      <td>0.402778</td>\n      <td>0.408750</td>\n      <td>0.444444</td>\n      <td>0.430556</td>\n      <td>0.437778</td>\n      <td>0.426111</td>\n      <td>0.616500</td>\n    </tr>\n    <tr>\n      <th>2017-05-07 00:00:00+00:00</th>\n      <td>0.781667</td>\n      <td>0.541667</td>\n      <td>0.513889</td>\n      <td>NaN</td>\n      <td>NaN</td>\n      <td>0.070238</td>\n      <td>8.4</td>\n      <td>11.8</td>\n      <td>909.821429</td>\n      <td>914.1</td>\n      <td>...</td>\n      <td>0.489861</td>\n      <td>0.447639</td>\n      <td>0.402778</td>\n      <td>0.408750</td>\n      <td>0.417500</td>\n      <td>0.453889</td>\n      <td>0.444444</td>\n      <td>0.430556</td>\n      <td>0.437778</td>\n      <td>0.426111</td>\n    </tr>\n    <tr>\n      <th>2017-05-14 00:00:00+00:00</th>\n      <td>0.725000</td>\n      <td>0.467778</td>\n      <td>0.444444</td>\n      <td>NaN</td>\n      <td>NaN</td>\n      <td>0.108333</td>\n      <td>4.6</td>\n      <td>18.2</td>\n      <td>907.244048</td>\n      <td>911.5</td>\n      <td>...</td>\n      <td>0.447639</td>\n      <td>0.402778</td>\n      <td>0.408750</td>\n      <td>0.417500</td>\n      <td>0.411944</td>\n      <td>0.354444</td>\n      <td>0.453889</td>\n      <td>0.444444</td>\n      <td>0.430556</td>\n      <td>0.437778</td>\n    </tr>\n    <tr>\n      <th>2017-05-21 00:00:00+00:00</th>\n      <td>0.698333</td>\n      <td>0.375000</td>\n      <td>0.437778</td>\n      <td>NaN</td>\n      <td>NaN</td>\n      <td>0.302381</td>\n      <td>7.2</td>\n      <td>50.8</td>\n      <td>907.041071</td>\n      <td>910.4</td>\n      <td>...</td>\n      <td>0.402778</td>\n      <td>0.408750</td>\n      <td>0.417500</td>\n      <td>0.411944</td>\n      <td>0.389722</td>\n      <td>0.315000</td>\n      <td>0.354444</td>\n      <td>0.453889</td>\n      <td>0.444444</td>\n      <td>0.430556</td>\n    </tr>\n    <tr>\n      <th>2017-05-28 00:00:00+00:00</th>\n      <td>0.666667</td>\n      <td>0.322222</td>\n      <td>0.322222</td>\n      <td>NaN</td>\n      <td>NaN</td>\n      <td>0.153571</td>\n      <td>7.4</td>\n      <td>25.8</td>\n      <td>910.460714</td>\n      <td>912.7</td>\n      <td>...</td>\n      <td>0.408750</td>\n      <td>0.417500</td>\n      <td>0.411944</td>\n      <td>0.389722</td>\n      <td>0.360556</td>\n      <td>0.777778</td>\n      <td>0.315000</td>\n      <td>0.354444</td>\n      <td>0.453889</td>\n      <td>0.444444</td>\n    </tr>\n    <tr>\n      <th>...</th>\n      <td>...</td>\n      <td>...</td>\n      <td>...</td>\n      <td>...</td>\n      <td>...</td>\n      <td>...</td>\n      <td>...</td>\n      <td>...</td>\n      <td>...</td>\n      <td>...</td>\n      <td>...</td>\n      <td>...</td>\n      <td>...</td>\n      <td>...</td>\n      <td>...</td>\n      <td>...</td>\n      <td>...</td>\n      <td>...</td>\n      <td>...</td>\n      <td>...</td>\n      <td>...</td>\n    </tr>\n    <tr>\n      <th>2023-12-03 00:00:00+00:00</th>\n      <td>1.875000</td>\n      <td>0.750000</td>\n      <td>0.750000</td>\n      <td>1.0</td>\n      <td>0.5</td>\n      <td>0.077381</td>\n      <td>5.2</td>\n      <td>13.0</td>\n      <td>905.600595</td>\n      <td>910.5</td>\n      <td>...</td>\n      <td>NaN</td>\n      <td>NaN</td>\n      <td>NaN</td>\n      <td>NaN</td>\n      <td>NaN</td>\n      <td>0.520833</td>\n      <td>0.507083</td>\n      <td>0.347083</td>\n      <td>0.340417</td>\n      <td>0.375000</td>\n    </tr>\n    <tr>\n      <th>2023-12-10 00:00:00+00:00</th>\n      <td>1.458333</td>\n      <td>0.677083</td>\n      <td>0.677083</td>\n      <td>1.0</td>\n      <td>0.5</td>\n      <td>0.697619</td>\n      <td>28.2</td>\n      <td>117.2</td>\n      <td>906.600000</td>\n      <td>910.2</td>\n      <td>...</td>\n      <td>NaN</td>\n      <td>NaN</td>\n      <td>NaN</td>\n      <td>NaN</td>\n      <td>NaN</td>\n      <td>0.534583</td>\n      <td>0.520833</td>\n      <td>0.507083</td>\n      <td>0.347083</td>\n      <td>0.340417</td>\n    </tr>\n    <tr>\n      <th>2023-12-17 00:00:00+00:00</th>\n      <td>1.125000</td>\n      <td>0.562500</td>\n      <td>0.562500</td>\n      <td>1.0</td>\n      <td>0.5</td>\n      <td>0.347619</td>\n      <td>28.2</td>\n      <td>58.4</td>\n      <td>906.604464</td>\n      <td>910.0</td>\n      <td>...</td>\n      <td>NaN</td>\n      <td>NaN</td>\n      <td>NaN</td>\n      <td>NaN</td>\n      <td>NaN</td>\n      <td>0.520833</td>\n      <td>0.534583</td>\n      <td>0.520833</td>\n      <td>0.507083</td>\n      <td>0.347083</td>\n    </tr>\n    <tr>\n      <th>2023-12-24 00:00:00+00:00</th>\n      <td>1.125000</td>\n      <td>0.562500</td>\n      <td>0.562500</td>\n      <td>1.0</td>\n      <td>0.5</td>\n      <td>0.147619</td>\n      <td>7.4</td>\n      <td>24.8</td>\n      <td>904.365476</td>\n      <td>907.4</td>\n      <td>...</td>\n      <td>NaN</td>\n      <td>NaN</td>\n      <td>NaN</td>\n      <td>NaN</td>\n      <td>NaN</td>\n      <td>0.729167</td>\n      <td>0.520833</td>\n      <td>0.534583</td>\n      <td>0.520833</td>\n      <td>0.507083</td>\n    </tr>\n    <tr>\n      <th>2023-12-31 00:00:00+00:00</th>\n      <td>1.166667</td>\n      <td>0.625000</td>\n      <td>0.625000</td>\n      <td>1.0</td>\n      <td>0.5</td>\n      <td>0.326897</td>\n      <td>10.2</td>\n      <td>47.4</td>\n      <td>905.892414</td>\n      <td>909.4</td>\n      <td>...</td>\n      <td>NaN</td>\n      <td>NaN</td>\n      <td>NaN</td>\n      <td>NaN</td>\n      <td>NaN</td>\n      <td>1.000000</td>\n      <td>0.729167</td>\n      <td>0.520833</td>\n      <td>0.534583</td>\n      <td>0.520833</td>\n    </tr>\n  </tbody>\n</table>\n<p>349 rows × 73 columns</p>\n</div>"
     },
     "execution_count": 85,
     "metadata": {},
     "output_type": "execute_result"
    }
   ],
   "source": [
    "#Load and merge data\n",
    "\n",
    "price_weather_weekly_df = pd.read_csv('../processed_data/price_weather_weekly_df.V0.csv', index_col=0, parse_dates=True)\n",
    "price_weather_weekly_df.index = pd.to_datetime(price_weather_weekly_df.index)\n",
    "price_weather_weekly_df"
   ],
   "metadata": {
    "collapsed": false,
    "ExecuteTime": {
     "end_time": "2024-05-26T20:26:01.467582791Z",
     "start_time": "2024-05-26T20:26:01.400438925Z"
    }
   },
   "id": "f57c40fb91d596d6",
   "execution_count": 85
  },
  {
   "cell_type": "code",
   "outputs": [],
   "source": [
    "def safe_filename(filename):\n",
    "    keepcharacters = (' ', '.', '_')\n",
    "    return \"\".join(c for c in filename if c.isalnum() or c in keepcharacters).rstrip()\n"
   ],
   "metadata": {
    "collapsed": false,
    "ExecuteTime": {
     "end_time": "2024-05-26T20:26:01.468133745Z",
     "start_time": "2024-05-26T20:26:01.461828690Z"
    }
   },
   "id": "8e51f50073ea0a35",
   "execution_count": 86
  },
  {
   "cell_type": "code",
   "outputs": [
    {
     "data": {
      "text/plain": "<Figure size 640x480 with 0 Axes>"
     },
     "metadata": {},
     "output_type": "display_data"
    }
   ],
   "source": [
    "interest_cols = ['Alface Crespa - Roça']\n",
    "shift_cols = price_weather_weekly_df.columns.tolist()\n",
    "#shift_cols = ['RADIACAO GLOBAL (Kj/m²)_max']\n",
    "\n",
    "with open('2024-05-12-individual-correlation/correlation.csv', 'w') as f:\n",
    "    f.write('column,correlated_to,max_correlation\\n')\n",
    "\n",
    "for col in shift_cols:\n",
    "    temp_df = pd.DataFrame()\n",
    "    temp_df.index = price_weather_weekly_df.index\n",
    "   \n",
    "    for i_col in interest_cols:\n",
    "        temp_df[i_col] = price_weather_weekly_df[i_col]\n",
    "    \n",
    "    temp_df[0] = price_weather_weekly_df[col]\n",
    "    for i in range(1, 110):\n",
    "        temp_df[i] = temp_df[0].shift(i)\n",
    "        temp_df = temp_df.copy()\n",
    "    \n",
    "    corr = temp_df.corr(method=\"spearman\")\n",
    "    corr = corr.iloc[1:]\n",
    "    corr = corr[interest_cols]\n",
    "    corr = corr[interest_cols].apply(lambda x: x.abs())\n",
    "    max_corr = corr[interest_cols].max().values[0]\n",
    "    corr.index.names = [f'Shifted: {col}']\n",
    "    corr.columns = [f'Corr. with {c}' for c in interest_cols]\n",
    "    \n",
    "\n",
    "    plt.tight_layout()\n",
    "    \n",
    "    corr.plot(figsize=(10, 3), ylim=(0, 1), title=f'Correlation between {col} and {interest_cols[0]}', grid=True)\n",
    "    \n",
    "    vertical_lines_1 = [i for i in range(0, 110, 26)]\n",
    "    for v in vertical_lines_1:\n",
    "        plt.axvline(x = v, color = 'r', label = 'axvline - full height')\n",
    "        plt.axvline(x = v+7, color = 'b', label = 'axvline - full height')\n",
    "        plt.axvline(x = v+10, color = 'g', label = 'axvline - full height')\n",
    "        \n",
    "    with open('2024-05-12-individual-correlation/correlation.csv', 'a') as f:\n",
    "        f.write(f'\\\"{col}\\\",\\\"{interest_cols[0]}\\\",{max_corr}\\n')\n",
    "    \n",
    "    plt.savefig(f'2024-05-12-individual-correlation/{safe_filename(col)}.png', bbox_inches='tight')\n",
    "    plt.close()\n",
    "\n"
   ],
   "metadata": {
    "collapsed": false,
    "ExecuteTime": {
     "end_time": "2024-05-26T20:27:07.568206995Z",
     "start_time": "2024-05-26T20:26:01.475554572Z"
    }
   },
   "id": "ea059e29fa45a52f",
   "execution_count": 87
  }
 ],
 "metadata": {
  "kernelspec": {
   "display_name": "Python 3",
   "language": "python",
   "name": "python3"
  },
  "language_info": {
   "codemirror_mode": {
    "name": "ipython",
    "version": 2
   },
   "file_extension": ".py",
   "mimetype": "text/x-python",
   "name": "python",
   "nbconvert_exporter": "python",
   "pygments_lexer": "ipython2",
   "version": "2.7.6"
  }
 },
 "nbformat": 4,
 "nbformat_minor": 5
}
